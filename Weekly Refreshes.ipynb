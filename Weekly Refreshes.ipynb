{
 "cells": [
  {
   "cell_type": "code",
   "execution_count": 106,
   "id": "00d845fa-0963-4471-bd40-0b60b9736575",
   "metadata": {
    "tags": []
   },
   "outputs": [],
   "source": [
    "# !pip install --trusted-host pypi.org --trusted-host pypi.pyhton.org --trusted-host files.pythonhosted.org -U --upgrade xlrd\n"
   ]
  },
  {
   "cell_type": "code",
   "execution_count": 107,
   "id": "9a590b51-0d61-45ae-a223-772734f21cea",
   "metadata": {
    "tags": []
   },
   "outputs": [],
   "source": [
    "import os\n",
    "import sys \n",
    "import pandas as pd\n",
    "import re\n",
    "from selenium import webdriver \n",
    "import win32com.client\n",
    "import time\n",
    "from datetime import date\n",
    "import smtplib\n",
    "from email.mime.text import MIMEText\n",
    "from email.mime.multipart import MIMEMultipart\n",
    "from email.mime.application import MIMEApplication\n",
    "import xlsxwriter\n",
    "import concurrent.futures\n",
    "from datetime import datetime\n",
    "import requests\n",
    "\n",
    "import pdfplumber\n",
    "\n",
    "import matplotlib.pyplot as plt\n",
    "import plotly.express as px\n",
    "\n",
    "import shutil\n",
    "\n",
    "from selenium.webdriver.common.by import By\n",
    "from selenium.webdriver.common.keys import Keys\n",
    "\n",
    "from selenium.webdriver.common.action_chains import ActionChains\n",
    "from selenium.webdriver.support.ui import WebDriverWait\n",
    "from selenium.webdriver.support import expected_conditions as EC\n",
    "\n",
    "from selenium.common.exceptions import StaleElementReferenceException, TimeoutException\n",
    "\n",
    "from selenium.webdriver.chrome.service import Service\n",
    "from selenium.webdriver.chrome.options import Options\n",
    "from selenium.webdriver.support.ui import Select\n",
    "#from bs4 import BeautifulSoup\n",
    "import PyPDF2\n",
    "from PyPDF2 import PdfReader\n",
    "\n",
    "import xlrd"
   ]
  },
  {
   "cell_type": "code",
   "execution_count": 108,
   "id": "8bdf5d07-3cd9-4826-ab28-159232fd532a",
   "metadata": {
    "tags": []
   },
   "outputs": [],
   "source": [
    "source_directory = r\"C:\\Users\\bd1266\\Downloads\\Data Download\"\n",
    "backup_directory = r\"C:\\Users\\bd1266\\Downloads\\Data Download\\Back Up\""
   ]
  },
  {
   "cell_type": "code",
   "execution_count": 109,
   "id": "19720196-6d47-4485-8ee0-7dba3b777302",
   "metadata": {
    "tags": []
   },
   "outputs": [],
   "source": [
    "today = datetime.now().strftime(\"%Y-%m-%d\")\n"
   ]
  },
  {
   "cell_type": "code",
   "execution_count": 110,
   "id": "a2e83164-3ea0-4a3d-b446-d06ce57fcb37",
   "metadata": {
    "tags": []
   },
   "outputs": [
    {
     "data": {
      "text/plain": [
       "'2025-02-11'"
      ]
     },
     "execution_count": 110,
     "metadata": {},
     "output_type": "execute_result"
    }
   ],
   "source": [
    "today"
   ]
  },
  {
   "cell_type": "code",
   "execution_count": 111,
   "id": "f494536b-6b8d-4453-a66d-f421f87a83fa",
   "metadata": {
    "tags": []
   },
   "outputs": [],
   "source": [
    "def start_driver():\n",
    "    options = webdriver.ChromeOptions()\n",
    "\n",
    "    # Select desired download folder.\n",
    "    download_directory = \"C:\\\\Users\\\\bd1266\\\\Downloads\\\\Data Download\"\n",
    "    prefs = {\n",
    "        \"download.default_directory\": download_directory,\n",
    "        \"download.prompt_for_download\": False,\n",
    "        \"download.directory_upgrade\": True,\n",
    "        \"safebrowsing.enabled\": True,\n",
    "        \"safebrowsing.disable_download_protection\": True,\n",
    "        \"profile.default_content_setting_values.notifications\": 2,  # Disable notifications\n",
    "        \"profile.default_content_setting_values.popups\": 2  # Block pop-ups\n",
    "    }\n",
    "    options.add_experimental_option(\"prefs\", prefs)\n",
    "    options.add_argument(\"--disable-popup-blocking\")  # Disable pop-up blocking\n",
    "    options.add_argument(\"--disable-notifications\")  # Disable notifications\n",
    "\n",
    "    driver = webdriver.Chrome(options=options)\n",
    "    return driver"
   ]
  },
  {
   "cell_type": "code",
   "execution_count": 112,
   "id": "6c756a64-b891-43a8-93c4-e3f98040ed0f",
   "metadata": {
    "tags": []
   },
   "outputs": [],
   "source": [
    "# def start_driver():\n",
    "\n",
    "#     options = webdriver.ChromeOptions()\n",
    "\n",
    "#     #Select desired download folder.\n",
    "#     download_directory = \"C:\\\\Users\\\\bd1266\\\\Downloads\\\\Data Download\"\n",
    "#     prefs = {\n",
    "#                 \"download.default_directory\": download_directory,\n",
    "#                  \"download.prompt_for_download\": False,\n",
    "#                  \"download.directory_upgrade\": True,\n",
    "#                  \"safebrowsing.enabled\": True,\n",
    "#                  \"safebrowsing.disable_download_protection\": True}\n",
    "#     options.add_experimental_option(\"prefs\", prefs)\n",
    "#     driver = webdriver.Chrome(options=options)\n",
    "#     return driver\n",
    "\n"
   ]
  },
  {
   "cell_type": "markdown",
   "id": "8c7a66bb-8a6d-4cfe-a829-6dd28ee68dab",
   "metadata": {
    "jp-MarkdownHeadingCollapsed": true,
    "tags": []
   },
   "source": [
    "#### Principales Variables"
   ]
  },
  {
   "cell_type": "code",
   "execution_count": 113,
   "id": "b236346c-3b08-4c16-84e8-f916becaabb9",
   "metadata": {},
   "outputs": [],
   "source": [
    "try:\n",
    "    driver.quit()\n",
    "except:\n",
    "    print(\"no driver open\")       "
   ]
  },
  {
   "cell_type": "code",
   "execution_count": 114,
   "id": "ca102da0-0c10-4068-8ad6-3ada8f57815a",
   "metadata": {},
   "outputs": [],
   "source": [
    "driver = start_driver()"
   ]
  },
  {
   "cell_type": "code",
   "execution_count": 115,
   "id": "cf5b6757-b41d-4f7d-ba35-284e9460650f",
   "metadata": {},
   "outputs": [],
   "source": [
    "time.sleep(5)\n",
    "driver.get(\"https://www.bcra.gob.ar/PublicacionesEstadisticas/Principales_variables.asp\")\n",
    "time.sleep(5)"
   ]
  },
  {
   "cell_type": "code",
   "execution_count": 116,
   "id": "63991299-ca26-4000-9edb-ec8fc753cafe",
   "metadata": {},
   "outputs": [],
   "source": [
    "list_of_names = [\n",
    "    'Reservas Internacionales del BCRA', \n",
    "    'Tipo de Cambio Mayorista',  \n",
    "    'Tasa de Política Monetaria', \n",
    "    'Base monetaria - Total', \n",
    "    'Circulación monetaria', \n",
    "    'Billetes y monedas en poder del público', \n",
    "    'Efectivo en entidades financieras', \n",
    "    'Depósitos de los bancos en cta. cte.', \n",
    "    'Depósitos en efectivo en las entidades financieras', \n",
    "    'M2 privado', \n",
    "    'Inflación interanual', \n",
    "    'Inflación mensual', \n",
    "    'Inflación esperada',\n",
    "    'BADLAR en pesos de bancos privados (en % n.a.)',\n",
    "    'BADLAR en pesos de bancos privados (en % e.a.)',\n",
    "    'Tasas de interés de las operaciones de pase activas para el BCRA',\n",
    "    'Tasas de interés por préstamos entre entidades financiera privadas',\n",
    "    'Tasas de interés por depósitos a 30',\n",
    "    'Tasa de interés de préstamos por adelantos',\n",
    "    'Tasa de interés de préstamos personales',\n",
    "    'Tasa de interés para uso de la Justicia']"
   ]
  },
  {
   "cell_type": "code",
   "execution_count": 117,
   "id": "018808b7-a307-4844-ab0d-7d13885b322e",
   "metadata": {
    "tags": []
   },
   "outputs": [
    {
     "name": "stdout",
     "output_type": "stream",
     "text": [
      "{'Fecha': '2025-02-11', 'Variable': 'Reservas Internacionales del BCRA (en millones de dólares - cifras provisorias sujetas a cambio de valuación)', 'Fecha Variable': '06/02/2025', 'Valor': '28.743'}\n",
      "not found\n",
      "{'Fecha': '2025-02-11', 'Variable': 'Tipo de Cambio Minorista ($ por USD) Comunicación B 9791 - Promedio vendedor', 'Fecha Variable': '10/02/2025', 'Valor': '1.086,08'}\n",
      "{'Fecha': '2025-02-11', 'Variable': 'Tipo de Cambio Mayorista ($ por USD) Comunicación A 3500 - Referencia', 'Fecha Variable': '10/02/2025', 'Valor': '1.056,38'}\n",
      "not found\n",
      "not found\n",
      "{'Fecha': '2025-02-11', 'Variable': '   Tasa de Política Monetaria (en % n.a.)', 'Fecha Variable': '10/02/2025', 'Valor': '29,00'}\n",
      "{'Fecha': '2025-02-11', 'Variable': '   Tasa de Política Monetaria (en % e.a.)', 'Fecha Variable': '10/02/2025', 'Valor': '33,63'}\n",
      "{'Fecha': '2025-02-11', 'Variable': '   TAMAR en pesos de bancos privados (en % n.a.)', 'Fecha Variable': '07/02/2025', 'Valor': '30,5000'}\n",
      "{'Fecha': '2025-02-11', 'Variable': '   TAMAR en pesos de bancos privados (en % e.a.)', 'Fecha Variable': '07/02/2025', 'Valor': '35,1200'}\n",
      "{'Fecha': '2025-02-11', 'Variable': '   BADLAR en pesos de bancos privados (en % n.a.)', 'Fecha Variable': '07/02/2025', 'Valor': '28,7500'}\n",
      "{'Fecha': '2025-02-11', 'Variable': '   BADLAR en pesos de bancos privados (en % e.a.)', 'Fecha Variable': '07/02/2025', 'Valor': '32,8300'}\n",
      "{'Fecha': '2025-02-11', 'Variable': '   TM20 en pesos de bancos privados (en % n.a.)', 'Fecha Variable': '07/02/2025', 'Valor': '29,5625'}\n",
      "{'Fecha': '2025-02-11', 'Variable': '   Tasas de interés de las operaciones de pase activas para el BCRA, a 1 día de plazo (en % n.a.)', 'Fecha Variable': '11/02/2025', 'Valor': '33,00'}\n",
      "{'Fecha': '2025-02-11', 'Variable': '   Tasas de interés por préstamos entre entidades financiera privadas (BAIBAR) (en % n.a.)', 'Fecha Variable': '07/02/2025', 'Valor': '33,69'}\n",
      "{'Fecha': '2025-02-11', 'Variable': '   Tasas de interés por depósitos a 30 días de plazo en entidades financieras (en % n.a.)', 'Fecha Variable': '07/02/2025', 'Valor': '27,00'}\n",
      "{'Fecha': '2025-02-11', 'Variable': '   Tasa de interés de préstamos por adelantos en cuenta corriente', 'Fecha Variable': '07/02/2025', 'Valor': '35,98'}\n",
      "{'Fecha': '2025-02-11', 'Variable': '   Tasa de interés de préstamos personales', 'Fecha Variable': '07/02/2025', 'Valor': '67,53'}\n",
      "not found\n",
      "{'Fecha': '2025-02-11', 'Variable': 'Tasa de interés para uso de la Justicia - Comunicado P 14290 |Base 01/04/1991 (en %) ', 'Fecha Variable': '11/02/2025', 'Valor': '18.408,5370'}\n",
      "not found\n",
      "{'Fecha': '2025-02-11', 'Variable': 'Base monetaria - Total (en millones de pesos)', 'Fecha Variable': '06/02/2025', 'Valor': '31.034.691'}\n",
      "{'Fecha': '2025-02-11', 'Variable': '   Circulación monetaria (en millones de pesos)', 'Fecha Variable': '06/02/2025', 'Valor': '20.197.866'}\n",
      "{'Fecha': '2025-02-11', 'Variable': '   Billetes y monedas en poder del público (en millones de pesos)', 'Fecha Variable': '06/02/2025', 'Valor': '18.033.321'}\n",
      "{'Fecha': '2025-02-11', 'Variable': '   Efectivo en entidades financieras (en millones de pesos)', 'Fecha Variable': '06/02/2025', 'Valor': '2.164.545'}\n",
      "{'Fecha': '2025-02-11', 'Variable': '   Depósitos de los bancos en cta. cte. en pesos en el BCRA (en millones de pesos)', 'Fecha Variable': '06/02/2025', 'Valor': '10.836.825'}\n",
      "not found\n",
      "{'Fecha': '2025-02-11', 'Variable': 'Depósitos en efectivo en las entidades financieras - Total (en millones de pesos)', 'Fecha Variable': '06/02/2025', 'Valor': '142.733.867'}\n",
      "{'Fecha': '2025-02-11', 'Variable': '   En cuentas corrientes (neto de utilización FUCO) (en millones de pesos)', 'Fecha Variable': '06/02/2025', 'Valor': '22.830.634'}\n",
      "{'Fecha': '2025-02-11', 'Variable': '   En Caja de ahorros (en millones de pesos)', 'Fecha Variable': '06/02/2025', 'Valor': '54.625.418'}\n",
      "{'Fecha': '2025-02-11', 'Variable': '   A plazo (incluye inversiones y excluye CEDROS) (en millones de pesos)', 'Fecha Variable': '06/02/2025', 'Valor': '58.395.794'}\n",
      "not found\n",
      "{'Fecha': '2025-02-11', 'Variable': 'M2 privado, promedio móvil de 30 días, variación interanual (en %)', 'Fecha Variable': '06/02/2025', 'Valor': '55,9'}\n",
      "not found\n",
      "{'Fecha': '2025-02-11', 'Variable': 'Préstamos de las entidades financieras al sector privado (en millones de pesos)', 'Fecha Variable': '06/02/2025', 'Valor': '70.580.721'}\n",
      "not found\n",
      "{'Fecha': '2025-02-11', 'Variable': 'Inflación mensual (variación en %)', 'Fecha Variable': '31/12/2024', 'Valor': '2,7'}\n",
      "{'Fecha': '2025-02-11', 'Variable': 'Inflación interanual (variación en % i.a.)', 'Fecha Variable': '31/12/2024', 'Valor': '117,8'}\n",
      "{'Fecha': '2025-02-11', 'Variable': 'Inflación esperada - REM próximos 12 meses - MEDIANA (variación en % i.a)', 'Fecha Variable': '31/01/2025', 'Valor': '20,8'}\n",
      "not found\n",
      "not found\n",
      "{'Fecha': '2025-02-11', 'Variable': 'CER | Base 02/02/2002=1', 'Fecha Variable': '11/02/2025', 'Valor': '533,7079'}\n",
      "{'Fecha': '2025-02-11', 'Variable': 'Unidad de Valor Adquisitivo (UVA) | (en pesos, con 2 decimales, base 31/03/2016=14.05)', 'Fecha Variable': '11/02/2025', 'Valor': '1.346,63'}\n",
      "{'Fecha': '2025-02-11', 'Variable': 'Unidad de Vivienda (UVI) | (en pesos, con 2 decimales, base 31/03/2016=14.05)', 'Fecha Variable': '11/02/2025', 'Valor': '1.032,36'}\n"
     ]
    }
   ],
   "source": [
    "cell = WebDriverWait(driver, 10).until(\n",
    "    EC.presence_of_element_located((By.XPATH, '/html/body/div/div[2]/div/div/div/div/table/tbody'))\n",
    ")\n",
    "\n",
    "# Get all child elements within the specified cell\n",
    "child_elements = cell.find_elements(By.XPATH, './*')  # Get all direct children\n",
    "time.sleep(2)\n",
    "\n",
    "# Count the number of child elements\n",
    "item_count = len(child_elements)\n",
    "\n",
    "results =[]\n",
    "for i in range(1,item_count):\n",
    "    \n",
    "    item_xpath = f\"/html/body/div/div[2]/div/div/div/div/table/tbody/tr[{i}]\"\n",
    "    try:\n",
    "        kpi_name = driver.find_elements(By.XPATH, item_xpath + \"/td[1]/a\")[0].text\n",
    "        kpi_date = driver.find_elements(By.XPATH, item_xpath + \"/td[2]\")[0].text\n",
    "        kpi_value = driver.find_elements(By.XPATH, item_xpath + \"/td[3]\")[0].text\n",
    "        \n",
    "        result_dict = {\n",
    "            \"Fecha\" : today,\n",
    "            \"Variable\" : kpi_name,\n",
    "            \"Fecha Variable\" : kpi_date,\n",
    "            \"Valor\" : kpi_value\n",
    "        }\n",
    "        results.append(result_dict)\n",
    "        print(result_dict)\n",
    "    except:\n",
    "        print(\"not found\")\n",
    "\n",
    "df = pd.DataFrame(results)"
   ]
  },
  {
   "cell_type": "code",
   "execution_count": 118,
   "id": "cfb8a867-0fbf-4021-bb52-d4ef87595646",
   "metadata": {
    "tags": []
   },
   "outputs": [
    {
     "name": "stderr",
     "output_type": "stream",
     "text": [
      "C:\\Users\\bd1266\\AppData\\Local\\Temp\\ipykernel_21296\\367063942.py:2: UserWarning:\n",
      "\n",
      "This pattern is interpreted as a regular expression, and has match groups. To actually get the groups, use str.extract.\n",
      "\n"
     ]
    },
    {
     "data": {
      "text/html": [
       "<div>\n",
       "<style scoped>\n",
       "    .dataframe tbody tr th:only-of-type {\n",
       "        vertical-align: middle;\n",
       "    }\n",
       "\n",
       "    .dataframe tbody tr th {\n",
       "        vertical-align: top;\n",
       "    }\n",
       "\n",
       "    .dataframe thead th {\n",
       "        text-align: right;\n",
       "    }\n",
       "</style>\n",
       "<table border=\"1\" class=\"dataframe\">\n",
       "  <thead>\n",
       "    <tr style=\"text-align: right;\">\n",
       "      <th></th>\n",
       "      <th>Fecha</th>\n",
       "      <th>Variable</th>\n",
       "      <th>Fecha Variable</th>\n",
       "      <th>Valor</th>\n",
       "    </tr>\n",
       "  </thead>\n",
       "  <tbody>\n",
       "    <tr>\n",
       "      <th>0</th>\n",
       "      <td>2025-02-11</td>\n",
       "      <td>Reservas Internacionales del BCRA (en millones...</td>\n",
       "      <td>06/02/2025</td>\n",
       "      <td>28.743</td>\n",
       "    </tr>\n",
       "    <tr>\n",
       "      <th>2</th>\n",
       "      <td>2025-02-11</td>\n",
       "      <td>Tipo de Cambio Mayorista ($ por USD) Comunicac...</td>\n",
       "      <td>10/02/2025</td>\n",
       "      <td>1.056,38</td>\n",
       "    </tr>\n",
       "    <tr>\n",
       "      <th>3</th>\n",
       "      <td>2025-02-11</td>\n",
       "      <td>Tasa de Política Monetaria (en % n.a.)</td>\n",
       "      <td>10/02/2025</td>\n",
       "      <td>29,00</td>\n",
       "    </tr>\n",
       "    <tr>\n",
       "      <th>4</th>\n",
       "      <td>2025-02-11</td>\n",
       "      <td>Tasa de Política Monetaria (en % e.a.)</td>\n",
       "      <td>10/02/2025</td>\n",
       "      <td>33,63</td>\n",
       "    </tr>\n",
       "    <tr>\n",
       "      <th>10</th>\n",
       "      <td>2025-02-11</td>\n",
       "      <td>Tasas de interés de las operaciones de pase...</td>\n",
       "      <td>11/02/2025</td>\n",
       "      <td>33,00</td>\n",
       "    </tr>\n",
       "    <tr>\n",
       "      <th>11</th>\n",
       "      <td>2025-02-11</td>\n",
       "      <td>Tasas de interés por préstamos entre entida...</td>\n",
       "      <td>07/02/2025</td>\n",
       "      <td>33,69</td>\n",
       "    </tr>\n",
       "    <tr>\n",
       "      <th>12</th>\n",
       "      <td>2025-02-11</td>\n",
       "      <td>Tasas de interés por depósitos a 30 días de...</td>\n",
       "      <td>07/02/2025</td>\n",
       "      <td>27,00</td>\n",
       "    </tr>\n",
       "    <tr>\n",
       "      <th>13</th>\n",
       "      <td>2025-02-11</td>\n",
       "      <td>Tasa de interés de préstamos por adelantos ...</td>\n",
       "      <td>07/02/2025</td>\n",
       "      <td>35,98</td>\n",
       "    </tr>\n",
       "    <tr>\n",
       "      <th>14</th>\n",
       "      <td>2025-02-11</td>\n",
       "      <td>Tasa de interés de préstamos personales</td>\n",
       "      <td>07/02/2025</td>\n",
       "      <td>67,53</td>\n",
       "    </tr>\n",
       "    <tr>\n",
       "      <th>15</th>\n",
       "      <td>2025-02-11</td>\n",
       "      <td>Tasa de interés para uso de la Justicia - Comu...</td>\n",
       "      <td>11/02/2025</td>\n",
       "      <td>18.408,5370</td>\n",
       "    </tr>\n",
       "    <tr>\n",
       "      <th>16</th>\n",
       "      <td>2025-02-11</td>\n",
       "      <td>Base monetaria - Total (en millones de pesos)</td>\n",
       "      <td>06/02/2025</td>\n",
       "      <td>31.034.691</td>\n",
       "    </tr>\n",
       "    <tr>\n",
       "      <th>17</th>\n",
       "      <td>2025-02-11</td>\n",
       "      <td>Circulación monetaria (en millones de pesos)</td>\n",
       "      <td>06/02/2025</td>\n",
       "      <td>20.197.866</td>\n",
       "    </tr>\n",
       "    <tr>\n",
       "      <th>18</th>\n",
       "      <td>2025-02-11</td>\n",
       "      <td>Billetes y monedas en poder del público (en...</td>\n",
       "      <td>06/02/2025</td>\n",
       "      <td>18.033.321</td>\n",
       "    </tr>\n",
       "    <tr>\n",
       "      <th>19</th>\n",
       "      <td>2025-02-11</td>\n",
       "      <td>Efectivo en entidades financieras (en millo...</td>\n",
       "      <td>06/02/2025</td>\n",
       "      <td>2.164.545</td>\n",
       "    </tr>\n",
       "    <tr>\n",
       "      <th>20</th>\n",
       "      <td>2025-02-11</td>\n",
       "      <td>Depósitos de los bancos en cta. cte. en pes...</td>\n",
       "      <td>06/02/2025</td>\n",
       "      <td>10.836.825</td>\n",
       "    </tr>\n",
       "    <tr>\n",
       "      <th>21</th>\n",
       "      <td>2025-02-11</td>\n",
       "      <td>Depósitos en efectivo en las entidades financi...</td>\n",
       "      <td>06/02/2025</td>\n",
       "      <td>142.733.867</td>\n",
       "    </tr>\n",
       "    <tr>\n",
       "      <th>25</th>\n",
       "      <td>2025-02-11</td>\n",
       "      <td>M2 privado, promedio móvil de 30 días, variaci...</td>\n",
       "      <td>06/02/2025</td>\n",
       "      <td>55,9</td>\n",
       "    </tr>\n",
       "    <tr>\n",
       "      <th>27</th>\n",
       "      <td>2025-02-11</td>\n",
       "      <td>Inflación mensual (variación en %)</td>\n",
       "      <td>31/12/2024</td>\n",
       "      <td>2,7</td>\n",
       "    </tr>\n",
       "    <tr>\n",
       "      <th>28</th>\n",
       "      <td>2025-02-11</td>\n",
       "      <td>Inflación interanual (variación en % i.a.)</td>\n",
       "      <td>31/12/2024</td>\n",
       "      <td>117,8</td>\n",
       "    </tr>\n",
       "    <tr>\n",
       "      <th>29</th>\n",
       "      <td>2025-02-11</td>\n",
       "      <td>Inflación esperada - REM próximos 12 meses - M...</td>\n",
       "      <td>31/01/2025</td>\n",
       "      <td>20,8</td>\n",
       "    </tr>\n",
       "  </tbody>\n",
       "</table>\n",
       "</div>"
      ],
      "text/plain": [
       "         Fecha                                           Variable  \\\n",
       "0   2025-02-11  Reservas Internacionales del BCRA (en millones...   \n",
       "2   2025-02-11  Tipo de Cambio Mayorista ($ por USD) Comunicac...   \n",
       "3   2025-02-11             Tasa de Política Monetaria (en % n.a.)   \n",
       "4   2025-02-11             Tasa de Política Monetaria (en % e.a.)   \n",
       "10  2025-02-11     Tasas de interés de las operaciones de pase...   \n",
       "11  2025-02-11     Tasas de interés por préstamos entre entida...   \n",
       "12  2025-02-11     Tasas de interés por depósitos a 30 días de...   \n",
       "13  2025-02-11     Tasa de interés de préstamos por adelantos ...   \n",
       "14  2025-02-11            Tasa de interés de préstamos personales   \n",
       "15  2025-02-11  Tasa de interés para uso de la Justicia - Comu...   \n",
       "16  2025-02-11      Base monetaria - Total (en millones de pesos)   \n",
       "17  2025-02-11       Circulación monetaria (en millones de pesos)   \n",
       "18  2025-02-11     Billetes y monedas en poder del público (en...   \n",
       "19  2025-02-11     Efectivo en entidades financieras (en millo...   \n",
       "20  2025-02-11     Depósitos de los bancos en cta. cte. en pes...   \n",
       "21  2025-02-11  Depósitos en efectivo en las entidades financi...   \n",
       "25  2025-02-11  M2 privado, promedio móvil de 30 días, variaci...   \n",
       "27  2025-02-11                 Inflación mensual (variación en %)   \n",
       "28  2025-02-11         Inflación interanual (variación en % i.a.)   \n",
       "29  2025-02-11  Inflación esperada - REM próximos 12 meses - M...   \n",
       "\n",
       "   Fecha Variable        Valor  \n",
       "0      06/02/2025       28.743  \n",
       "2      10/02/2025     1.056,38  \n",
       "3      10/02/2025        29,00  \n",
       "4      10/02/2025        33,63  \n",
       "10     11/02/2025        33,00  \n",
       "11     07/02/2025        33,69  \n",
       "12     07/02/2025        27,00  \n",
       "13     07/02/2025        35,98  \n",
       "14     07/02/2025        67,53  \n",
       "15     11/02/2025  18.408,5370  \n",
       "16     06/02/2025   31.034.691  \n",
       "17     06/02/2025   20.197.866  \n",
       "18     06/02/2025   18.033.321  \n",
       "19     06/02/2025    2.164.545  \n",
       "20     06/02/2025   10.836.825  \n",
       "21     06/02/2025  142.733.867  \n",
       "25     06/02/2025         55,9  \n",
       "27     31/12/2024          2,7  \n",
       "28     31/12/2024        117,8  \n",
       "29     31/01/2025         20,8  "
      ]
     },
     "execution_count": 118,
     "metadata": {},
     "output_type": "execute_result"
    }
   ],
   "source": [
    "pattern = '|'.join(list_of_names)\n",
    "df_ppalesvariables = df[df['Variable'].str.contains(pattern, case=False, na=False)]\n",
    "df_ppalesvariables"
   ]
  },
  {
   "cell_type": "code",
   "execution_count": null,
   "id": "aeae07f6-4e5f-4c63-aa97-4b22182443b3",
   "metadata": {},
   "outputs": [],
   "source": [
    " "
   ]
  },
  {
   "cell_type": "code",
   "execution_count": null,
   "id": "e14f69ad-a6fe-4802-b1a1-0d90a21a7ab8",
   "metadata": {},
   "outputs": [],
   "source": []
  },
  {
   "cell_type": "code",
   "execution_count": null,
   "id": "862b1f66-1d36-4066-8c3d-ba4118be75bf",
   "metadata": {},
   "outputs": [],
   "source": []
  },
  {
   "cell_type": "code",
   "execution_count": null,
   "id": "86d42b90-f22b-4623-b804-b4166331e461",
   "metadata": {},
   "outputs": [],
   "source": []
  },
  {
   "cell_type": "code",
   "execution_count": null,
   "id": "10956cd6-4a1f-4640-a7ad-c80d368440fc",
   "metadata": {},
   "outputs": [],
   "source": []
  },
  {
   "cell_type": "code",
   "execution_count": null,
   "id": "9227a6b4-4380-4251-a6d8-51e485a053bb",
   "metadata": {},
   "outputs": [],
   "source": []
  },
  {
   "cell_type": "code",
   "execution_count": null,
   "id": "a8b31c6d-69e0-4cf2-883d-73e6881fad35",
   "metadata": {},
   "outputs": [],
   "source": []
  },
  {
   "cell_type": "markdown",
   "id": "1e8441ae-d2cb-40fe-b33f-e00c192a29a4",
   "metadata": {
    "tags": []
   },
   "source": [
    "## 1.1 Rava"
   ]
  },
  {
   "cell_type": "markdown",
   "id": "d22e6311-ce82-4cec-a35e-197728252a19",
   "metadata": {
    "tags": []
   },
   "source": [
    "### 1.1 Dolar"
   ]
  },
  {
   "cell_type": "code",
   "execution_count": 119,
   "id": "3f3da051-eb77-4150-a84e-a1cb16333c4c",
   "metadata": {},
   "outputs": [],
   "source": [
    "try:\n",
    "    driver.quit()\n",
    "except:\n",
    "    print(\"no driver open\")       "
   ]
  },
  {
   "cell_type": "code",
   "execution_count": 120,
   "id": "87b09a80-59fc-4783-9663-803affd0f2b2",
   "metadata": {},
   "outputs": [],
   "source": [
    "driver = start_driver()"
   ]
  },
  {
   "cell_type": "code",
   "execution_count": 121,
   "id": "59059e66-275b-403a-b039-fc6b0df4388e",
   "metadata": {},
   "outputs": [],
   "source": [
    "time.sleep(5)\n",
    "driver.get(\"https://www.rava.com/\")\n",
    "time.sleep(15)"
   ]
  },
  {
   "cell_type": "code",
   "execution_count": 122,
   "id": "0a50dd7e-600c-483b-8338-3201cd0e88a8",
   "metadata": {},
   "outputs": [],
   "source": [
    "\n",
    "\n",
    "body_xpath= '/html/body/div[1]/main/div/div/div[2]/div[1]/div[2]/table/tbody'\n",
    "\n",
    "\n",
    "list_of_names = [\"MEP\", \"CCL\", \"MAYORISTA\"]"
   ]
  },
  {
   "cell_type": "code",
   "execution_count": 123,
   "id": "a70ac04b-fcf0-4f11-a932-67db3078bb0f",
   "metadata": {
    "tags": []
   },
   "outputs": [
    {
     "name": "stdout",
     "output_type": "stream",
     "text": [
      "10\n",
      "Value not useful: ['OFICIAL', '1.076,00', '0,1', '0,2', '2,2']\n",
      "Value not useful: ['TARJETA', '1.398,80', '0,1', '0,2', '2,2']\n",
      "Skipping entry with 'LEDE' or 'SENEBI': ['MEP', 'LEDE', '1.174,37', '0,1', '0,5', '1,3']\n",
      "Skipping entry with 'LEDE' or 'SENEBI': ['MEP', 'SENEBI', '1.183,71', '0,2', '1,5', '1,5']\n",
      "Value not useful: ['OFI-MEP', '9,70', '-', '14,1', '-13,4']\n",
      "Value not useful: ['OFI-CCL', '10,70', '-', '2,9', '-16,4']\n",
      "Value not useful: ['MEP-CCL', '0,90', '-', '-50,0', '-35,7']\n"
     ]
    }
   ],
   "source": [
    "cell = WebDriverWait(driver, 10).until(\n",
    "    EC.presence_of_element_located((By.XPATH, body_xpath))\n",
    ")\n",
    "\n",
    "# Get all child elements within the specified cell\n",
    "child_elements = cell.find_elements(By.XPATH, './*')  # Get all direct children\n",
    "time.sleep(2)\n",
    "# Count the number of child elements\n",
    "item_count = len(child_elements)\n",
    "print(item_count)\n",
    "results =[]\n",
    "\n",
    "list_of_names\n",
    "\n",
    "df_dolar = pd.DataFrame(columns=[\"Fecha\", \"Name\", \"Valor\", \"% dia\"])\n",
    "\n",
    "# Assuming child_elements is already defined and contains the relevant elements\n",
    "for i in child_elements:\n",
    "    split_values = i.text.split()\n",
    "\n",
    "    # Ensure there are at least 3 parts before adding to DataFrame\n",
    "    if len(split_values) >= 3:\n",
    "        # Check if the first part is in the list_of_names\n",
    "        if split_values[0] in list_of_names:\n",
    "            # Check if the second part is not \"LEDE\" or \"SENEBI\"\n",
    "            if split_values[1] not in [\"LEDE\", \"SENEBI\"]:\n",
    "                # Create a new row as a DataFrame\n",
    "                new_row = pd.DataFrame({\n",
    "                    \"Fecha\" : today,\n",
    "                    \"Name\": [split_values[0]],\n",
    "                    \"Valor\": [split_values[1]],\n",
    "                    \"% dia\": [split_values[2]]\n",
    "                })\n",
    "                # Append the new row to the existing DataFrame using concat\n",
    "                df_dolar = pd.concat([df_dolar, new_row], ignore_index=True)\n",
    "            else:\n",
    "                print(f\"Skipping entry with 'LEDE' or 'SENEBI': {split_values}\")\n",
    "        else:\n",
    "            print(f\"Value not useful: {split_values}\")\n",
    "    else:\n",
    "        print(f\"Not enough parts in split_values: {split_values}\")\n",
    "\n",
    "# Display the final DataFrame\n"
   ]
  },
  {
   "cell_type": "code",
   "execution_count": 124,
   "id": "bfc5da12-b459-4fe3-b948-35ca5186a436",
   "metadata": {
    "tags": []
   },
   "outputs": [
    {
     "data": {
      "text/html": [
       "<div>\n",
       "<style scoped>\n",
       "    .dataframe tbody tr th:only-of-type {\n",
       "        vertical-align: middle;\n",
       "    }\n",
       "\n",
       "    .dataframe tbody tr th {\n",
       "        vertical-align: top;\n",
       "    }\n",
       "\n",
       "    .dataframe thead th {\n",
       "        text-align: right;\n",
       "    }\n",
       "</style>\n",
       "<table border=\"1\" class=\"dataframe\">\n",
       "  <thead>\n",
       "    <tr style=\"text-align: right;\">\n",
       "      <th></th>\n",
       "      <th>Fecha</th>\n",
       "      <th>Name</th>\n",
       "      <th>Valor</th>\n",
       "      <th>% dia</th>\n",
       "    </tr>\n",
       "  </thead>\n",
       "  <tbody>\n",
       "    <tr>\n",
       "      <th>0</th>\n",
       "      <td>2025-02-11</td>\n",
       "      <td>MAYORISTA</td>\n",
       "      <td>1.055,25</td>\n",
       "      <td>-</td>\n",
       "    </tr>\n",
       "    <tr>\n",
       "      <th>1</th>\n",
       "      <td>2025-02-11</td>\n",
       "      <td>MEP</td>\n",
       "      <td>1.181,07</td>\n",
       "      <td>-0,3</td>\n",
       "    </tr>\n",
       "    <tr>\n",
       "      <th>2</th>\n",
       "      <td>2025-02-11</td>\n",
       "      <td>CCL</td>\n",
       "      <td>1.190,65</td>\n",
       "      <td>0,6</td>\n",
       "    </tr>\n",
       "  </tbody>\n",
       "</table>\n",
       "</div>"
      ],
      "text/plain": [
       "        Fecha       Name     Valor % dia\n",
       "0  2025-02-11  MAYORISTA  1.055,25     -\n",
       "1  2025-02-11        MEP  1.181,07  -0,3\n",
       "2  2025-02-11        CCL  1.190,65   0,6"
      ]
     },
     "execution_count": 124,
     "metadata": {},
     "output_type": "execute_result"
    }
   ],
   "source": [
    "df_dolar"
   ]
  },
  {
   "cell_type": "markdown",
   "id": "a08f8c86-8eb1-45f3-bd72-4b024b3be4f3",
   "metadata": {
    "tags": []
   },
   "source": [
    "### 1.2 Bonos"
   ]
  },
  {
   "cell_type": "code",
   "execution_count": 125,
   "id": "1d0b108f-c8d5-4672-b576-bd1f8b5f915e",
   "metadata": {},
   "outputs": [],
   "source": [
    "try:\n",
    "    driver.quit()\n",
    "except:\n",
    "    print(\"no driver open\")       "
   ]
  },
  {
   "cell_type": "code",
   "execution_count": 126,
   "id": "7e521b9e-6338-451d-a23d-733f7e559236",
   "metadata": {},
   "outputs": [
    {
     "ename": "KeyboardInterrupt",
     "evalue": "",
     "output_type": "error",
     "traceback": [
      "\u001b[1;31m---------------------------------------------------------------------------\u001b[0m",
      "\u001b[1;31mKeyboardInterrupt\u001b[0m                         Traceback (most recent call last)",
      "Cell \u001b[1;32mIn[126], line 1\u001b[0m\n\u001b[1;32m----> 1\u001b[0m driver \u001b[38;5;241m=\u001b[39m start_driver()\n",
      "Cell \u001b[1;32mIn[111], line 19\u001b[0m, in \u001b[0;36mstart_driver\u001b[1;34m()\u001b[0m\n\u001b[0;32m     16\u001b[0m options\u001b[38;5;241m.\u001b[39madd_argument(\u001b[38;5;124m\"\u001b[39m\u001b[38;5;124m--disable-popup-blocking\u001b[39m\u001b[38;5;124m\"\u001b[39m)  \u001b[38;5;66;03m# Disable pop-up blocking\u001b[39;00m\n\u001b[0;32m     17\u001b[0m options\u001b[38;5;241m.\u001b[39madd_argument(\u001b[38;5;124m\"\u001b[39m\u001b[38;5;124m--disable-notifications\u001b[39m\u001b[38;5;124m\"\u001b[39m)  \u001b[38;5;66;03m# Disable notifications\u001b[39;00m\n\u001b[1;32m---> 19\u001b[0m driver \u001b[38;5;241m=\u001b[39m webdriver\u001b[38;5;241m.\u001b[39mChrome(options\u001b[38;5;241m=\u001b[39moptions)\n\u001b[0;32m     20\u001b[0m \u001b[38;5;28;01mreturn\u001b[39;00m driver\n",
      "File \u001b[1;32m~\\AppData\\Local\\anaconda3\\Lib\\site-packages\\selenium\\webdriver\\chrome\\webdriver.py:45\u001b[0m, in \u001b[0;36mWebDriver.__init__\u001b[1;34m(self, options, service, keep_alive)\u001b[0m\n\u001b[0;32m     42\u001b[0m service \u001b[38;5;241m=\u001b[39m service \u001b[38;5;28;01mif\u001b[39;00m service \u001b[38;5;28;01melse\u001b[39;00m Service()\n\u001b[0;32m     43\u001b[0m options \u001b[38;5;241m=\u001b[39m options \u001b[38;5;28;01mif\u001b[39;00m options \u001b[38;5;28;01melse\u001b[39;00m Options()\n\u001b[1;32m---> 45\u001b[0m \u001b[38;5;28msuper\u001b[39m()\u001b[38;5;241m.\u001b[39m\u001b[38;5;21m__init__\u001b[39m(\n\u001b[0;32m     46\u001b[0m     browser_name\u001b[38;5;241m=\u001b[39mDesiredCapabilities\u001b[38;5;241m.\u001b[39mCHROME[\u001b[38;5;124m\"\u001b[39m\u001b[38;5;124mbrowserName\u001b[39m\u001b[38;5;124m\"\u001b[39m],\n\u001b[0;32m     47\u001b[0m     vendor_prefix\u001b[38;5;241m=\u001b[39m\u001b[38;5;124m\"\u001b[39m\u001b[38;5;124mgoog\u001b[39m\u001b[38;5;124m\"\u001b[39m,\n\u001b[0;32m     48\u001b[0m     options\u001b[38;5;241m=\u001b[39moptions,\n\u001b[0;32m     49\u001b[0m     service\u001b[38;5;241m=\u001b[39mservice,\n\u001b[0;32m     50\u001b[0m     keep_alive\u001b[38;5;241m=\u001b[39mkeep_alive,\n\u001b[0;32m     51\u001b[0m )\n",
      "File \u001b[1;32m~\\AppData\\Local\\anaconda3\\Lib\\site-packages\\selenium\\webdriver\\chromium\\webdriver.py:50\u001b[0m, in \u001b[0;36mChromiumDriver.__init__\u001b[1;34m(self, browser_name, vendor_prefix, options, service, keep_alive)\u001b[0m\n\u001b[0;32m     47\u001b[0m \u001b[38;5;28mself\u001b[39m\u001b[38;5;241m.\u001b[39mservice \u001b[38;5;241m=\u001b[39m service\n\u001b[0;32m     49\u001b[0m \u001b[38;5;28mself\u001b[39m\u001b[38;5;241m.\u001b[39mservice\u001b[38;5;241m.\u001b[39mpath \u001b[38;5;241m=\u001b[39m DriverFinder\u001b[38;5;241m.\u001b[39mget_path(\u001b[38;5;28mself\u001b[39m\u001b[38;5;241m.\u001b[39mservice, options)\n\u001b[1;32m---> 50\u001b[0m \u001b[38;5;28mself\u001b[39m\u001b[38;5;241m.\u001b[39mservice\u001b[38;5;241m.\u001b[39mstart()\n\u001b[0;32m     52\u001b[0m executor \u001b[38;5;241m=\u001b[39m ChromiumRemoteConnection(\n\u001b[0;32m     53\u001b[0m     remote_server_addr\u001b[38;5;241m=\u001b[39m\u001b[38;5;28mself\u001b[39m\u001b[38;5;241m.\u001b[39mservice\u001b[38;5;241m.\u001b[39mservice_url,\n\u001b[0;32m     54\u001b[0m     browser_name\u001b[38;5;241m=\u001b[39mbrowser_name,\n\u001b[1;32m   (...)\u001b[0m\n\u001b[0;32m     57\u001b[0m     ignore_proxy\u001b[38;5;241m=\u001b[39moptions\u001b[38;5;241m.\u001b[39m_ignore_local_proxy,\n\u001b[0;32m     58\u001b[0m )\n\u001b[0;32m     60\u001b[0m \u001b[38;5;28;01mtry\u001b[39;00m:\n",
      "File \u001b[1;32m~\\AppData\\Local\\anaconda3\\Lib\\site-packages\\selenium\\webdriver\\common\\service.py:103\u001b[0m, in \u001b[0;36mService.start\u001b[1;34m(self)\u001b[0m\n\u001b[0;32m    101\u001b[0m \u001b[38;5;28;01mwhile\u001b[39;00m \u001b[38;5;28;01mTrue\u001b[39;00m:\n\u001b[0;32m    102\u001b[0m     \u001b[38;5;28mself\u001b[39m\u001b[38;5;241m.\u001b[39massert_process_still_running()\n\u001b[1;32m--> 103\u001b[0m     \u001b[38;5;28;01mif\u001b[39;00m \u001b[38;5;28mself\u001b[39m\u001b[38;5;241m.\u001b[39mis_connectable():\n\u001b[0;32m    104\u001b[0m         \u001b[38;5;28;01mbreak\u001b[39;00m\n\u001b[0;32m    106\u001b[0m     count \u001b[38;5;241m+\u001b[39m\u001b[38;5;241m=\u001b[39m \u001b[38;5;241m1\u001b[39m\n",
      "File \u001b[1;32m~\\AppData\\Local\\anaconda3\\Lib\\site-packages\\selenium\\webdriver\\common\\service.py:120\u001b[0m, in \u001b[0;36mService.is_connectable\u001b[1;34m(self)\u001b[0m\n\u001b[0;32m    117\u001b[0m \u001b[38;5;28;01mdef\u001b[39;00m \u001b[38;5;21mis_connectable\u001b[39m(\u001b[38;5;28mself\u001b[39m) \u001b[38;5;241m-\u001b[39m\u001b[38;5;241m>\u001b[39m \u001b[38;5;28mbool\u001b[39m:\n\u001b[0;32m    118\u001b[0m \u001b[38;5;250m    \u001b[39m\u001b[38;5;124;03m\"\"\"Establishes a socket connection to determine if the service running\u001b[39;00m\n\u001b[0;32m    119\u001b[0m \u001b[38;5;124;03m    on the port is accessible.\"\"\"\u001b[39;00m\n\u001b[1;32m--> 120\u001b[0m     \u001b[38;5;28;01mreturn\u001b[39;00m utils\u001b[38;5;241m.\u001b[39mis_connectable(\u001b[38;5;28mself\u001b[39m\u001b[38;5;241m.\u001b[39mport)\n",
      "File \u001b[1;32m~\\AppData\\Local\\anaconda3\\Lib\\site-packages\\selenium\\webdriver\\common\\utils.py:101\u001b[0m, in \u001b[0;36mis_connectable\u001b[1;34m(port, host)\u001b[0m\n\u001b[0;32m     99\u001b[0m socket_ \u001b[38;5;241m=\u001b[39m \u001b[38;5;28;01mNone\u001b[39;00m\n\u001b[0;32m    100\u001b[0m \u001b[38;5;28;01mtry\u001b[39;00m:\n\u001b[1;32m--> 101\u001b[0m     socket_ \u001b[38;5;241m=\u001b[39m socket\u001b[38;5;241m.\u001b[39mcreate_connection((host, port), \u001b[38;5;241m1\u001b[39m)\n\u001b[0;32m    102\u001b[0m     result \u001b[38;5;241m=\u001b[39m \u001b[38;5;28;01mTrue\u001b[39;00m\n\u001b[0;32m    103\u001b[0m \u001b[38;5;28;01mexcept\u001b[39;00m _is_connectable_exceptions:\n",
      "File \u001b[1;32m~\\AppData\\Local\\anaconda3\\Lib\\socket.py:836\u001b[0m, in \u001b[0;36mcreate_connection\u001b[1;34m(address, timeout, source_address, all_errors)\u001b[0m\n\u001b[0;32m    834\u001b[0m \u001b[38;5;28;01mif\u001b[39;00m source_address:\n\u001b[0;32m    835\u001b[0m     sock\u001b[38;5;241m.\u001b[39mbind(source_address)\n\u001b[1;32m--> 836\u001b[0m sock\u001b[38;5;241m.\u001b[39mconnect(sa)\n\u001b[0;32m    837\u001b[0m \u001b[38;5;66;03m# Break explicitly a reference cycle\u001b[39;00m\n\u001b[0;32m    838\u001b[0m exceptions\u001b[38;5;241m.\u001b[39mclear()\n",
      "\u001b[1;31mKeyboardInterrupt\u001b[0m: "
     ]
    }
   ],
   "source": [
    "driver = start_driver()"
   ]
  },
  {
   "cell_type": "code",
   "execution_count": null,
   "id": "41ea613e-e44d-4f5f-9f20-be9398ff5141",
   "metadata": {},
   "outputs": [],
   "source": [
    "time.sleep(5)\n",
    "driver.get(\"https://www.rava.com/cotizaciones/bonos\")\n",
    "time.sleep(15)"
   ]
  },
  {
   "cell_type": "code",
   "execution_count": null,
   "id": "038a1899-334f-4b61-bd0d-7cb07443c025",
   "metadata": {},
   "outputs": [],
   "source": []
  },
  {
   "cell_type": "code",
   "execution_count": null,
   "id": "7f3bb116-75c5-43ab-a30b-442cd6273c27",
   "metadata": {},
   "outputs": [],
   "source": [
    "\n",
    "\n",
    "body_xpath= '/html/body/div[1]/main/div/div/div[2]/table/tbody'\n",
    "\n",
    "\n",
    "list_of_names = [\"AL30\", \"AL30D\", \"AL30C\", \"GD30\", \"GD30D\", \"GD30C\" , \"BPY26\"]"
   ]
  },
  {
   "cell_type": "code",
   "execution_count": null,
   "id": "39f01def-8a82-451b-9dd2-ca16eaa01f4b",
   "metadata": {
    "tags": []
   },
   "outputs": [],
   "source": [
    "cell = WebDriverWait(driver, 10).until(\n",
    "    EC.presence_of_element_located((By.XPATH, body_xpath))\n",
    ")\n",
    "\n",
    "# Get all child elements within the specified cell\n",
    "child_elements = cell.find_elements(By.XPATH, './*')  # Get all direct children\n",
    "time.sleep(2)\n",
    "# Count the number of child elements\n",
    "item_count = len(child_elements)\n",
    "print(item_count)\n",
    "results =[]\n",
    "\n",
    "list_of_names\n",
    "\n",
    "df_bonos = pd.DataFrame(columns=[\"Fecha\", \"Name\", \"Valor\", \"% dia\"])\n",
    "\n",
    "# Assuming child_elements is already defined and contains the relevant elements\n",
    "for i in child_elements:\n",
    "    split_values = i.text.split()\n",
    "\n",
    "    # Ensure there are at least 3 parts before adding to DataFrame\n",
    "    if len(split_values) >= 3:\n",
    "        # Check if the first part is in the list_of_names\n",
    "        if split_values[0] in list_of_names:\n",
    "            \n",
    "                new_row = pd.DataFrame({\n",
    "                    \"Fecha\" : today,\n",
    "                    \"Name\": [split_values[0]],\n",
    "                    \"Valor\": [split_values[1]],\n",
    "                    \"% dia\": [split_values[2]]\n",
    "                })\n",
    "                # Append the new row to the existing DataFrame using concat\n",
    "                df_bonos = pd.concat([df_bonos, new_row], ignore_index=True)\n",
    "        \n",
    "        else:\n",
    "            pass\n",
    "    else:\n",
    "        print(f\"Not enough parts in split_values: {split_values}\")\n",
    "\n",
    "# Display the final DataFrame\n"
   ]
  },
  {
   "cell_type": "code",
   "execution_count": null,
   "id": "11b68f11-c3b3-4f4a-80f8-a47621cdcdb1",
   "metadata": {
    "tags": []
   },
   "outputs": [],
   "source": [
    "df_bonos"
   ]
  },
  {
   "cell_type": "markdown",
   "id": "6c4cbe24-acc5-4c79-a867-e4cef31f8812",
   "metadata": {
    "tags": []
   },
   "source": [
    "### 1.3 Lo mejor - Lo peor"
   ]
  },
  {
   "cell_type": "code",
   "execution_count": null,
   "id": "dd0f4b54-42bf-436d-874d-2adb2fade8d1",
   "metadata": {},
   "outputs": [],
   "source": [
    "try:\n",
    "    driver.quit()\n",
    "except:\n",
    "    print(\"no driver open\")       "
   ]
  },
  {
   "cell_type": "code",
   "execution_count": null,
   "id": "ae3ee30a-dc28-4c78-a42a-c3957eb5a6ff",
   "metadata": {},
   "outputs": [],
   "source": [
    "driver = start_driver()"
   ]
  },
  {
   "cell_type": "code",
   "execution_count": null,
   "id": "d7b3bc85-eede-4054-b19b-5a6b6fb39126",
   "metadata": {},
   "outputs": [],
   "source": [
    "time.sleep(5)\n",
    "driver.get(\"https://www.rava.com\")\n",
    "time.sleep(15)"
   ]
  },
  {
   "cell_type": "code",
   "execution_count": null,
   "id": "5708389e-d27a-4278-997b-b6fcb032960d",
   "metadata": {
    "tags": []
   },
   "outputs": [],
   "source": [
    "body_xpath = '/html/body/div[1]/main/div/div/div[2]/div[8]/div[2]/table/tbody'\n",
    "\n",
    "\n",
    "cell = WebDriverWait(driver, 10).until(\n",
    "    EC.presence_of_element_located((By.XPATH, body_xpath))\n",
    ")\n",
    "\n",
    "# Get all child elements within the specified cell\n",
    "child_elements = cell.find_elements(By.XPATH, './*')  # Get all direct children\n",
    "time.sleep(2)\n",
    "\n",
    "# Count the number of child elements\n",
    "item_count = len(child_elements)\n",
    "print(item_count)\n",
    "\n",
    "# Initialize an empty DataFrame with specified column names\n",
    "df_lomejor = pd.DataFrame(columns=[\"Fecha\", \"Name\", \"Valor\", \"% dia\"])\n",
    "\n",
    "# Loop through each child element and extract data\n",
    "for i in child_elements:\n",
    "    split_values = i.text.split()\n",
    "\n",
    "    new_row = pd.DataFrame({\n",
    "        \"Fecha\": [today],\n",
    "        \"Name\": [split_values[0]],\n",
    "        \"Valor\": [split_values[1]],\n",
    "        \"% dia\": [split_values[2]]\n",
    "    })\n",
    "    \n",
    "    # Append the new row to the existing DataFrame using pd.concat\n",
    "    df_lomejor = pd.concat([df_lomejor, new_row], ignore_index=True)\n",
    "\n",
    "print(\"Lo mejor\")\n",
    "df_lomejor"
   ]
  },
  {
   "cell_type": "code",
   "execution_count": null,
   "id": "8a5ff26d-8b88-4081-b992-c4013f6db395",
   "metadata": {
    "tags": []
   },
   "outputs": [],
   "source": [
    "body_xpath = '/html/body/div[1]/main/div/div/div[2]/div[9]/div[2]/table/tbody'\n",
    "\n",
    "\n",
    "cell = WebDriverWait(driver, 10).until(\n",
    "    EC.presence_of_element_located((By.XPATH, body_xpath))\n",
    ")\n",
    "\n",
    "# Get all child elements within the specified cell\n",
    "child_elements = cell.find_elements(By.XPATH, './*')  # Get all direct children\n",
    "time.sleep(2)\n",
    "\n",
    "# Count the number of child elements\n",
    "item_count = len(child_elements)\n",
    "print(item_count)\n",
    "\n",
    "# Initialize an empty DataFrame with specified column names\n",
    "df_lopeor = pd.DataFrame(columns=[\"Fecha\", \"Name\", \"Valor\", \"% dia\"])\n",
    "\n",
    "# Loop through each child element and extract data\n",
    "for i in child_elements:\n",
    "    split_values = i.text.split()\n",
    "\n",
    "    new_row = pd.DataFrame({\n",
    "        \"Fecha\": [today],\n",
    "        \"Name\": [split_values[0]],\n",
    "        \"Valor\": [split_values[1]],\n",
    "        \"% dia\": [split_values[2]]\n",
    "    })\n",
    "    \n",
    "    # Append the new row to the existing DataFrame using pd.concat\n",
    "    df_lopeor = pd.concat([df_lopeor, new_row], ignore_index=True)\n",
    "\n",
    "print(\"Lo peor\")\n",
    "df_lopeor"
   ]
  },
  {
   "cell_type": "code",
   "execution_count": null,
   "id": "16799b18-4bb5-44c5-9692-94c82a55678f",
   "metadata": {},
   "outputs": [],
   "source": []
  },
  {
   "cell_type": "markdown",
   "id": "16f0bd63-4aeb-4d65-93ca-a6dedd04066e",
   "metadata": {
    "tags": []
   },
   "source": [
    "### 1.4 Acciones Merval"
   ]
  },
  {
   "cell_type": "code",
   "execution_count": null,
   "id": "9f826dbc-df7e-4b81-908f-05f7802dd002",
   "metadata": {},
   "outputs": [],
   "source": [
    "try:\n",
    "    driver.quit()\n",
    "except:\n",
    "    print(\"no driver open\")       "
   ]
  },
  {
   "cell_type": "code",
   "execution_count": null,
   "id": "f289d97d-c9dd-42b3-bd5b-02335d97b64b",
   "metadata": {},
   "outputs": [],
   "source": [
    "driver = start_driver()"
   ]
  },
  {
   "cell_type": "code",
   "execution_count": null,
   "id": "eb239913-9c9e-4ff8-9e8e-9a14588b88e9",
   "metadata": {
    "tags": []
   },
   "outputs": [],
   "source": [
    "time.sleep(5)\n",
    "driver.get(\"https://www.rava.com/cotizaciones/acciones-argentinas\")\n",
    "time.sleep(15)"
   ]
  },
  {
   "cell_type": "code",
   "execution_count": null,
   "id": "b66fa70c-4b18-463f-9f50-c9897718eaa4",
   "metadata": {
    "tags": []
   },
   "outputs": [],
   "source": [
    "body_xpath = '/html/body/div[1]/main/div/div/div[2]/table/tbody'\n",
    "\n",
    "\n",
    "cell = WebDriverWait(driver, 10).until(\n",
    "    EC.presence_of_element_located((By.XPATH, body_xpath))\n",
    ")\n",
    "\n",
    "# Get all child elements within the specified cell\n",
    "child_elements = cell.find_elements(By.XPATH, './*')  # Get all direct children\n",
    "time.sleep(2)\n",
    "\n",
    "# Count the number of child elements\n",
    "item_count = len(child_elements)\n",
    "print(item_count)\n",
    "\n",
    "# Initialize an empty DataFrame with specified column names\n",
    "df_merval_acciones = pd.DataFrame(columns=[\"Especie\", \"Lider\", \"Valor\", \"% dia\"])\n",
    "\n",
    "# Loop through each child element and extract data\n",
    "for i in child_elements:\n",
    "    split_values = i.text.split()\n",
    "\n",
    "    new_row = pd.DataFrame({\n",
    "        \"Fecha\": [today],\n",
    "        \"Especie\": [split_values[0]],\n",
    "        \"Valor\": [split_values[1]],\n",
    "        \"% dia\": [split_values[2]]\n",
    "    })\n",
    "    \n",
    "    # Append the new row to the existing DataFrame using pd.concat\n",
    "    df_merval_acciones = pd.concat([df_merval_acciones, new_row], ignore_index=True)\n",
    "\n",
    "#print(\"Lo mejor\")\n",
    "df_merval_acciones"
   ]
  },
  {
   "cell_type": "code",
   "execution_count": null,
   "id": "704351c7-cd8b-466c-a687-a827992576c2",
   "metadata": {
    "tags": []
   },
   "outputs": [],
   "source": [
    "body_xpath = '/html/body/div[1]/main/div/div/div[4]/div[2]/div[1]/table/tbody'\n",
    "\n",
    "\n",
    "cell = WebDriverWait(driver, 10).until(\n",
    "    EC.presence_of_element_located((By.XPATH, body_xpath))\n",
    ")\n",
    "\n",
    "# Get all child elements within the specified cell\n",
    "child_elements = cell.find_elements(By.XPATH, './*')  # Get all direct children\n",
    "time.sleep(2)\n",
    "\n",
    "# Count the number of child elements\n",
    "item_count = len(child_elements)\n",
    "print(item_count)\n",
    "\n",
    "# Initialize an empty DataFrame with specified column names\n",
    "df_merval = pd.DataFrame(columns=[\"Especie\", \"Ultimo Valor\", \"% dia\", \"% mes\", \"% año\"])\n",
    "\n",
    "# Loop through each child element and extract data\n",
    "for i in child_elements:\n",
    "    split_values = i.text.split()\n",
    "    if \"USD\" in i.text:\n",
    "        new_row = pd.DataFrame({\n",
    "            \"Fecha\": [today],\n",
    "            \"Especie\": [split_values[0] + \" \" + split_values[1]],\n",
    "            \"Ultimo Valor\": [split_values[2]],\n",
    "            \"% dia\": [split_values[3]],\n",
    "            \"% mes\": [split_values[4]],\n",
    "            \"% año\": [split_values[5]],\n",
    "        })\n",
    "    else: \n",
    "\n",
    "        new_row = pd.DataFrame({\n",
    "            \"Fecha\": [today],\n",
    "            \"Especie\": [split_values[0]],\n",
    "            \"Ultimo Valor\": [split_values[1]],\n",
    "            \"% dia\": [split_values[2]],\n",
    "            \"% mes\": [split_values[3]],\n",
    "            \"% año\": [split_values[4]],\n",
    "        })\n",
    "    \n",
    "    # Append the new row to the existing DataFrame using pd.concat\n",
    "    df_merval = pd.concat([df_merval, new_row], ignore_index=True)\n",
    "\n",
    "#print(\"Lo mejor\")\n",
    "df_merval"
   ]
  },
  {
   "cell_type": "markdown",
   "id": "d1fa27ae-ad59-42c4-90a8-c7e6cd9280f5",
   "metadata": {
    "tags": []
   },
   "source": [
    "### MATBA FOREX"
   ]
  },
  {
   "cell_type": "code",
   "execution_count": null,
   "id": "d155f4e4-81e6-4548-a1e3-80c2a51a7cd4",
   "metadata": {},
   "outputs": [],
   "source": [
    "try:\n",
    "    driver.quit()\n",
    "except:\n",
    "    print(\"no driver open\")       "
   ]
  },
  {
   "cell_type": "code",
   "execution_count": null,
   "id": "19055438-9e4c-459f-a9da-4fa3366a75be",
   "metadata": {
    "tags": []
   },
   "outputs": [],
   "source": [
    "driver = start_driver()"
   ]
  },
  {
   "cell_type": "code",
   "execution_count": null,
   "id": "fc4c4a23-4377-4e04-9fee-ba660bad41ba",
   "metadata": {
    "tags": []
   },
   "outputs": [],
   "source": [
    "time.sleep(5)\n",
    "driver.get(\"https://matbarofex.primary.ventures/\")\n",
    "time.sleep(15)"
   ]
  },
  {
   "cell_type": "code",
   "execution_count": null,
   "id": "b75c0105-620a-496f-97be-fed9eadde5e8",
   "metadata": {
    "tags": []
   },
   "outputs": [],
   "source": [
    "body_xpath = '/html/body/div[1]/div/div[2]/div/div/div/div/div/div/div[2]/div/div[2]/div[2]'\n",
    "\n",
    "\n",
    "cell = WebDriverWait(driver, 10).until(\n",
    "    EC.presence_of_element_located((By.XPATH, body_xpath))\n",
    ")\n",
    "\n",
    "# Get all child elements within the specified cell\n",
    "child_elements = cell.find_elements(By.XPATH, './*')  # Get all direct children\n",
    "time.sleep(2)\n",
    "\n",
    "# Count the number of child elements\n",
    "item_count = len(child_elements)\n",
    "print(item_count)"
   ]
  },
  {
   "cell_type": "code",
   "execution_count": null,
   "id": "bc5c8c2f-559e-4348-86b8-3cc06c0d479f",
   "metadata": {
    "tags": []
   },
   "outputs": [],
   "source": [
    "df_forex = pd.DataFrame(columns=[ \"Instrumento\", \"Vol C\", \"Compra\", \"Venta\", \"Vol V\",\"Fecha\"])\n",
    "for i in range(4):\n",
    "    \n",
    "    split_values = child_elements[i].text.split()\n",
    "\n",
    "    new_row = pd.DataFrame([{\n",
    "        \"Instrumento\": split_values[0],\n",
    "        \"Vol C\": split_values[1],\n",
    "        \"Compra\": split_values[2],\n",
    "        \"Venta\": split_values[3],\n",
    "        \"Vol V\": split_values[4],\n",
    "        \"Fecha\": today\n",
    "    }])\n",
    "    #print(new_row)\n",
    "    df_forex = pd.concat([df_forex, new_row], ignore_index=True)\n",
    "df_forex"
   ]
  },
  {
   "cell_type": "code",
   "execution_count": null,
   "id": "b8716ced-746e-498c-8647-bb0df3b354e5",
   "metadata": {},
   "outputs": [],
   "source": []
  },
  {
   "cell_type": "markdown",
   "id": "eede2d10-1bc1-43ff-9532-dc15359fc6ba",
   "metadata": {
    "tags": []
   },
   "source": [
    "### Trading Economics"
   ]
  },
  {
   "cell_type": "markdown",
   "id": "b8e82a2c-107f-40e3-9ad3-219329b28e63",
   "metadata": {
    "tags": []
   },
   "source": [
    "#### Crypto"
   ]
  },
  {
   "cell_type": "code",
   "execution_count": null,
   "id": "386fe63e-e56c-49b2-8e86-8613bcce8786",
   "metadata": {},
   "outputs": [],
   "source": [
    "try:\n",
    "    driver.quit()\n",
    "except:\n",
    "    print(\"no driver open\")       "
   ]
  },
  {
   "cell_type": "code",
   "execution_count": null,
   "id": "d5cbbc49-6bcd-41ed-8128-4ae573032194",
   "metadata": {
    "tags": []
   },
   "outputs": [],
   "source": [
    "driver = start_driver()"
   ]
  },
  {
   "cell_type": "code",
   "execution_count": null,
   "id": "b66bfde3-a92b-4fec-9419-f213518d5d15",
   "metadata": {
    "tags": []
   },
   "outputs": [],
   "source": [
    "time.sleep(5)\n",
    "driver.get(\"https://tradingeconomics.com/crypto\")\n",
    "time.sleep(15)"
   ]
  },
  {
   "cell_type": "code",
   "execution_count": null,
   "id": "572439ed-1681-4c27-8e41-8e3a2d4361ba",
   "metadata": {
    "tags": []
   },
   "outputs": [],
   "source": [
    "table = driver.find_elements(By.XPATH, '/html/body/form/div[4]/div/div/div[1]/div/table/tbody')[0]\n",
    "rows = table.find_elements(By.TAG_NAME, 'tr')\n",
    "data = []\n",
    "\n",
    "# Iterate through each row and extract data\n",
    "for row in rows:\n",
    "    columns = row.find_elements(By.TAG_NAME, 'td')\n",
    "    \n",
    "    # Extract data from each column based on the specified headers\n",
    "    crypto = columns[0].text.strip()\n",
    "    price = columns[1].text.strip()\n",
    "    day = columns[2].text.strip()\n",
    "    day_percent = columns[3].text.strip()\n",
    "    weekly = columns[4].text.strip()\n",
    "    monthly = columns[5].text.strip()\n",
    "    ytd = columns[6].text.strip()\n",
    "    yoy = columns[7].text.strip()\n",
    "    marketCap = columns[8].text.strip()\n",
    "    date = today\n",
    "    data.append([crypto, price, day, day_percent, weekly, monthly, ytd, yoy, marketCap, date])\n",
    "    # Print the extracted data\n",
    "    print(f\"crypto: {crypto}, price: {price}, Day: {day}, day_percent: {day_percent}, Weekly: {weekly}, Monthly: {monthly}, YTD: {ytd}, YoY: {yoy}, marketCap: {marketCap},  Date: {date}\")\n",
    "\n",
    "df_trading_economics_crypto = pd.DataFrame(data, columns=['crypto', 'price', 'Day', 'day_percent', 'Weekly', 'Monthly', 'YTD', 'YoY', 'marketCap', 'Date'])"
   ]
  },
  {
   "cell_type": "code",
   "execution_count": null,
   "id": "c5c7f76d-f329-4974-91bf-b203d8b8282a",
   "metadata": {
    "tags": []
   },
   "outputs": [],
   "source": [
    "df_trading_economics_crypto"
   ]
  },
  {
   "cell_type": "code",
   "execution_count": null,
   "id": "48c5d0f9-ec2f-4127-9efb-552788b80a10",
   "metadata": {
    "tags": []
   },
   "outputs": [],
   "source": [
    "df_trading_economics_crypto"
   ]
  },
  {
   "cell_type": "code",
   "execution_count": null,
   "id": "912ac366-d79c-4c27-b0f2-bcef6c343af7",
   "metadata": {
    "tags": []
   },
   "outputs": [],
   "source": [
    "df_dolar"
   ]
  },
  {
   "cell_type": "code",
   "execution_count": null,
   "id": "915065f5-4bae-4c88-9126-86be0771f081",
   "metadata": {
    "tags": []
   },
   "outputs": [],
   "source": [
    "df_bonos"
   ]
  },
  {
   "cell_type": "code",
   "execution_count": null,
   "id": "145b9dcf-61f6-4cf8-bbbb-2444fa22c298",
   "metadata": {
    "tags": []
   },
   "outputs": [],
   "source": [
    "df_merval"
   ]
  },
  {
   "cell_type": "code",
   "execution_count": null,
   "id": "0b140a00-1705-4d48-9981-cd6b6672a79e",
   "metadata": {
    "tags": []
   },
   "outputs": [],
   "source": [
    "df_merval_acciones"
   ]
  },
  {
   "cell_type": "code",
   "execution_count": null,
   "id": "d0c8487e-643b-449d-95aa-14cc1ae67cfd",
   "metadata": {
    "tags": []
   },
   "outputs": [],
   "source": [
    "df_lopeor"
   ]
  },
  {
   "cell_type": "code",
   "execution_count": null,
   "id": "99ad982c-1e19-4723-9edd-4ba3010bf061",
   "metadata": {
    "tags": []
   },
   "outputs": [],
   "source": [
    "df_lomejor"
   ]
  },
  {
   "cell_type": "code",
   "execution_count": null,
   "id": "4384fd4b-b9b8-4e97-9d23-db40699ea80d",
   "metadata": {
    "tags": []
   },
   "outputs": [],
   "source": [
    "df_forex"
   ]
  },
  {
   "cell_type": "code",
   "execution_count": null,
   "id": "8f55b089-0fca-4307-8b28-8d9a43704a73",
   "metadata": {},
   "outputs": [],
   "source": []
  },
  {
   "cell_type": "code",
   "execution_count": null,
   "id": "791f4150-b3dc-4dbf-8a9f-76ce303fc12c",
   "metadata": {},
   "outputs": [],
   "source": []
  },
  {
   "cell_type": "code",
   "execution_count": null,
   "id": "e4fb099e-28fe-4db0-8e28-c38bea9f1507",
   "metadata": {},
   "outputs": [],
   "source": []
  },
  {
   "cell_type": "code",
   "execution_count": null,
   "id": "66ede0a2-6bed-49ea-a155-6a6a53b9387a",
   "metadata": {},
   "outputs": [],
   "source": []
  },
  {
   "cell_type": "code",
   "execution_count": null,
   "id": "1ad692dc-2bf1-47c8-a574-b2ff03dfa82c",
   "metadata": {},
   "outputs": [],
   "source": []
  },
  {
   "cell_type": "code",
   "execution_count": null,
   "id": "aa9aed05-4843-4752-9f26-21a34a457d7a",
   "metadata": {},
   "outputs": [],
   "source": []
  },
  {
   "cell_type": "markdown",
   "id": "3bfbe8d0-7482-4e9d-8306-73fbda82197c",
   "metadata": {
    "tags": []
   },
   "source": [
    "#### Bonds"
   ]
  },
  {
   "cell_type": "code",
   "execution_count": null,
   "id": "74b3b7f7-5cd0-478c-ba5e-a2a047262053",
   "metadata": {},
   "outputs": [],
   "source": [
    "try:\n",
    "    driver.quit()\n",
    "except:\n",
    "    print(\"no driver open\")       "
   ]
  },
  {
   "cell_type": "code",
   "execution_count": null,
   "id": "3b3f2b5c-f692-4120-af97-3aa69282485c",
   "metadata": {
    "tags": []
   },
   "outputs": [],
   "source": [
    "driver = start_driver()"
   ]
  },
  {
   "cell_type": "code",
   "execution_count": null,
   "id": "ec765902-1644-4fb2-a9e0-168e9d8258e4",
   "metadata": {
    "tags": []
   },
   "outputs": [],
   "source": [
    "time.sleep(5)\n",
    "driver.get(\"https://tradingeconomics.com/bonds\")\n",
    "time.sleep(15)"
   ]
  },
  {
   "cell_type": "code",
   "execution_count": null,
   "id": "37202223-8c05-4580-b79f-cb9773951356",
   "metadata": {
    "tags": []
   },
   "outputs": [],
   "source": [
    "table = driver.find_elements(By.XPATH, '/html/body/form/div[4]/div/div/div[1]/div/table/tbody')[0]\n",
    "rows = table.find_elements(By.TAG_NAME, 'tr')\n",
    "data = []\n",
    "\n",
    "# Iterate through each row and extract data\n",
    "for row in rows:\n",
    "    columns = row.find_elements(By.TAG_NAME, 'td')\n",
    "    \n",
    "    # Extract data from each column based on the specified headers\n",
    "    major = columns[1].text.strip()\n",
    "    yield_value = columns[2].text.strip()\n",
    "    day = columns[3].text.strip()\n",
    "    weekly = columns[4].text.strip()\n",
    "    monthly = columns[5].text.strip()\n",
    "    ytd = columns[6].text.strip()\n",
    "    yoy = columns[7].text.strip()\n",
    "    date = today\n",
    "    data.append([major, yield_value, day, weekly, monthly, ytd, yoy, date])\n",
    "    # Print the extracted data\n",
    "    print(f\"Major: {major}, Yield: {yield_value}, Day: {day}, Weekly: {weekly}, Monthly: {monthly}, YTD: {ytd}, YoY: {yoy}, Date: {date}\")\n",
    "\n",
    "df_trading_economics_bonds = pd.DataFrame(data, columns=['Major', 'Yield', 'Day', 'Weekly', 'Monthly', 'YTD', 'YoY', 'Date'])"
   ]
  },
  {
   "cell_type": "code",
   "execution_count": null,
   "id": "cd24742d-7030-4d8f-b703-5065940cca3b",
   "metadata": {
    "tags": []
   },
   "outputs": [],
   "source": [
    "df_trading_economics_bonds"
   ]
  },
  {
   "cell_type": "code",
   "execution_count": null,
   "id": "4ae9413b-9420-48da-af3f-a71d7115e59f",
   "metadata": {},
   "outputs": [],
   "source": []
  },
  {
   "cell_type": "markdown",
   "id": "c0d0a62a-be4f-4d02-958e-66b584eeaba7",
   "metadata": {
    "tags": []
   },
   "source": [
    "#### Stocks"
   ]
  },
  {
   "cell_type": "code",
   "execution_count": null,
   "id": "125eae75-e10d-40bf-8bc8-2940ccbc5ef7",
   "metadata": {},
   "outputs": [],
   "source": [
    "try:\n",
    "    driver.quit()\n",
    "except:\n",
    "    print(\"no driver open\")       "
   ]
  },
  {
   "cell_type": "code",
   "execution_count": null,
   "id": "839affee-a620-40e5-9027-4373401d2fde",
   "metadata": {
    "tags": []
   },
   "outputs": [],
   "source": [
    "driver = start_driver()"
   ]
  },
  {
   "cell_type": "code",
   "execution_count": null,
   "id": "4dd0a6c9-5341-496a-99d8-56d41266fb9a",
   "metadata": {
    "tags": []
   },
   "outputs": [],
   "source": [
    "time.sleep(5)\n",
    "driver.get(\"https://tradingeconomics.com/stocks\")\n",
    "time.sleep(15)"
   ]
  },
  {
   "cell_type": "code",
   "execution_count": null,
   "id": "75bf12e2-e209-4858-ac9c-d0ca95fa84d7",
   "metadata": {
    "tags": []
   },
   "outputs": [],
   "source": [
    "table = driver.find_elements(By.XPATH, '/html/body/form/div[4]/div/div/div[1]/div/table/tbody')[0]\n",
    "rows = table.find_elements(By.TAG_NAME, 'tr')\n",
    "data = []\n",
    "\n",
    "# Iterate through each row and extract data\n",
    "for row in rows:\n",
    "    columns = row.find_elements(By.TAG_NAME, 'td')\n",
    "    \n",
    "    # Extract data from each column based on the specified headers\n",
    "    major = columns[1].text.strip()\n",
    "    yield_value = columns[2].text.strip()\n",
    "    day = columns[3].text.strip()\n",
    "    weekly = columns[4].text.strip()\n",
    "    monthly = columns[5].text.strip()\n",
    "    ytd = columns[6].text.strip()\n",
    "    yoy = columns[7].text.strip()\n",
    "    date = today\n",
    "    data.append([major, yield_value, day, weekly, monthly, ytd, yoy, date])\n",
    "    # Print the extracted data\n",
    "    print(f\"Major: {major}, Yield: {yield_value}, Day: {day}, Weekly: {weekly}, Monthly: {monthly}, YTD: {ytd}, YoY: {yoy}, Date: {date}\")\n",
    "\n",
    "df_trading_economics_stocks = pd.DataFrame(data, columns=['Major', 'Yield', 'Day', 'Weekly', 'Monthly', 'YTD', 'YoY', 'Date'])"
   ]
  },
  {
   "cell_type": "code",
   "execution_count": null,
   "id": "b24087d1-3078-4ddf-b8f9-b1a7aec575c5",
   "metadata": {
    "tags": []
   },
   "outputs": [],
   "source": [
    "df_trading_economics_stocks"
   ]
  },
  {
   "cell_type": "code",
   "execution_count": null,
   "id": "e2de1590-0c8a-499d-9e84-382d204263b6",
   "metadata": {},
   "outputs": [],
   "source": []
  },
  {
   "cell_type": "code",
   "execution_count": null,
   "id": "ff7d4e87-f2cb-43a5-a3e9-8a2a5bdde106",
   "metadata": {},
   "outputs": [],
   "source": []
  },
  {
   "cell_type": "code",
   "execution_count": null,
   "id": "d9c9cfff-e0e1-4673-af20-b44db46f6873",
   "metadata": {},
   "outputs": [],
   "source": []
  },
  {
   "cell_type": "code",
   "execution_count": null,
   "id": "07e5fb44-bdbb-4872-9268-4ce46ec90134",
   "metadata": {},
   "outputs": [],
   "source": []
  },
  {
   "cell_type": "code",
   "execution_count": null,
   "id": "42419754-6fab-4910-af0c-942825218174",
   "metadata": {},
   "outputs": [],
   "source": []
  },
  {
   "cell_type": "code",
   "execution_count": null,
   "id": "04dadb7d-360d-482f-9daa-c8b4705a8ecc",
   "metadata": {},
   "outputs": [],
   "source": []
  },
  {
   "cell_type": "code",
   "execution_count": null,
   "id": "e973831f-21fb-4fe0-bf18-2240bb0a734b",
   "metadata": {},
   "outputs": [],
   "source": []
  },
  {
   "cell_type": "code",
   "execution_count": null,
   "id": "513c4b0b-8aab-43b0-972d-0eee2206bf01",
   "metadata": {},
   "outputs": [],
   "source": []
  },
  {
   "cell_type": "code",
   "execution_count": null,
   "id": "17057b46-cad9-43db-bbee-ee09904155e8",
   "metadata": {},
   "outputs": [],
   "source": []
  },
  {
   "cell_type": "code",
   "execution_count": null,
   "id": "59f0d298-a5f8-4581-82e0-6656db118725",
   "metadata": {},
   "outputs": [],
   "source": []
  },
  {
   "cell_type": "code",
   "execution_count": null,
   "id": "0d36ae57-8767-43ca-bfc1-6bccf8113468",
   "metadata": {},
   "outputs": [],
   "source": []
  },
  {
   "cell_type": "code",
   "execution_count": null,
   "id": "fbf728f0-8250-47e5-bf8d-2bf6f84c4858",
   "metadata": {},
   "outputs": [],
   "source": []
  },
  {
   "cell_type": "code",
   "execution_count": null,
   "id": "edd29342-2659-4e84-b662-bc1370cce4fa",
   "metadata": {},
   "outputs": [],
   "source": []
  },
  {
   "cell_type": "code",
   "execution_count": null,
   "id": "02684b41-cea0-4617-802e-a700c9edef3a",
   "metadata": {},
   "outputs": [],
   "source": []
  },
  {
   "cell_type": "code",
   "execution_count": null,
   "id": "155db779-f948-42c8-a00a-9549ea314942",
   "metadata": {},
   "outputs": [],
   "source": []
  },
  {
   "cell_type": "code",
   "execution_count": null,
   "id": "5410967b-915b-4240-aeb8-b763e9c025f0",
   "metadata": {},
   "outputs": [],
   "source": []
  },
  {
   "cell_type": "code",
   "execution_count": null,
   "id": "da8d1540-5814-4938-ae1a-82fb466182dc",
   "metadata": {},
   "outputs": [],
   "source": []
  },
  {
   "cell_type": "code",
   "execution_count": null,
   "id": "a37e3dd3-2675-4f55-9b14-142ac9e96d45",
   "metadata": {},
   "outputs": [],
   "source": []
  },
  {
   "cell_type": "code",
   "execution_count": null,
   "id": "6f083fde-5979-4fc1-af27-065ea81da8fc",
   "metadata": {},
   "outputs": [],
   "source": []
  },
  {
   "cell_type": "code",
   "execution_count": null,
   "id": "50ce8279-3d88-4983-8d93-cc495ba4f442",
   "metadata": {},
   "outputs": [],
   "source": []
  },
  {
   "cell_type": "code",
   "execution_count": null,
   "id": "95d83961-00d1-4e00-a8f3-6408743c2ddc",
   "metadata": {},
   "outputs": [],
   "source": []
  },
  {
   "cell_type": "code",
   "execution_count": null,
   "id": "093381b1-a549-4656-bbd2-5d861f8e5ff0",
   "metadata": {},
   "outputs": [],
   "source": []
  },
  {
   "cell_type": "code",
   "execution_count": null,
   "id": "fb5092a7-eaad-4bd7-b147-9127e30a5a9d",
   "metadata": {},
   "outputs": [],
   "source": []
  },
  {
   "cell_type": "code",
   "execution_count": null,
   "id": "c3c58d1e-2507-47fe-8ea8-676b1ae2cd9c",
   "metadata": {},
   "outputs": [],
   "source": []
  },
  {
   "cell_type": "code",
   "execution_count": null,
   "id": "f3a0621f-6d50-49ca-aee0-965382f0248a",
   "metadata": {},
   "outputs": [],
   "source": []
  },
  {
   "cell_type": "code",
   "execution_count": null,
   "id": "4f82434a-b2a3-4619-8d79-38915c4d67ac",
   "metadata": {},
   "outputs": [],
   "source": []
  },
  {
   "cell_type": "code",
   "execution_count": null,
   "id": "25614edd-7985-478a-b96d-922245f0bf7d",
   "metadata": {},
   "outputs": [],
   "source": []
  },
  {
   "cell_type": "code",
   "execution_count": null,
   "id": "81a13bd0-1938-4b73-a9c4-e50b21b8d531",
   "metadata": {},
   "outputs": [],
   "source": []
  },
  {
   "cell_type": "code",
   "execution_count": null,
   "id": "2dc4b020-8e83-45a9-9fcf-0af6a25ed0f5",
   "metadata": {},
   "outputs": [],
   "source": []
  },
  {
   "cell_type": "code",
   "execution_count": null,
   "id": "998c9777-ed16-483b-b372-bf68b61d97d0",
   "metadata": {},
   "outputs": [],
   "source": []
  },
  {
   "cell_type": "code",
   "execution_count": null,
   "id": "2ece0aef-ad1c-40ae-9fe1-e294e549f3a9",
   "metadata": {},
   "outputs": [],
   "source": []
  },
  {
   "cell_type": "code",
   "execution_count": null,
   "id": "61d00320-07e6-4edb-92be-2ba96fa27ee1",
   "metadata": {},
   "outputs": [],
   "source": []
  },
  {
   "cell_type": "code",
   "execution_count": null,
   "id": "5b0d4249-2d85-4a73-825c-c9920b58cd40",
   "metadata": {},
   "outputs": [],
   "source": []
  },
  {
   "cell_type": "code",
   "execution_count": null,
   "id": "143ff1e5-892b-466e-8dde-7bcba43726be",
   "metadata": {},
   "outputs": [],
   "source": []
  },
  {
   "cell_type": "code",
   "execution_count": null,
   "id": "a92b7aa3-257e-4921-9b42-9c6ea879fc5e",
   "metadata": {},
   "outputs": [],
   "source": []
  },
  {
   "cell_type": "code",
   "execution_count": null,
   "id": "834d32c2-6267-4855-8a79-98ffecd7f7bd",
   "metadata": {},
   "outputs": [],
   "source": []
  },
  {
   "cell_type": "code",
   "execution_count": null,
   "id": "3485c325-e746-46ae-9462-c483ef6f989c",
   "metadata": {},
   "outputs": [],
   "source": []
  },
  {
   "cell_type": "code",
   "execution_count": null,
   "id": "193fb2f6-6a4f-41b9-ab84-0ebee1d05fd4",
   "metadata": {},
   "outputs": [],
   "source": []
  },
  {
   "cell_type": "markdown",
   "id": "eb864ea2-6f13-4e67-a2a1-ac6b674241aa",
   "metadata": {
    "tags": []
   },
   "source": [
    "# Economia Local "
   ]
  },
  {
   "cell_type": "markdown",
   "id": "0c24f8fe-7a49-40d6-a324-6d74160d22c2",
   "metadata": {
    "tags": []
   },
   "source": [
    "## 1- INDEC"
   ]
  },
  {
   "cell_type": "code",
   "execution_count": null,
   "id": "452cf61c-b4b1-4d75-8ea4-01df41c30d3f",
   "metadata": {
    "tags": []
   },
   "outputs": [],
   "source": []
  },
  {
   "cell_type": "code",
   "execution_count": null,
   "id": "c7c0dd5c-465c-4fdc-9ec6-a44d8d6d7608",
   "metadata": {
    "tags": []
   },
   "outputs": [],
   "source": [
    "driver  = start_driver()\n",
    "time.sleep(10)\n",
    "driver.get(\"https://www.indec.gob.ar\")\n",
    "time.sleep(12)"
   ]
  },
  {
   "cell_type": "markdown",
   "id": "892602b2-c61a-4ca6-83e4-fea507e5b03b",
   "metadata": {
    "tags": []
   },
   "source": [
    "###  1.1 “Tasa de Desocupación”, “Precios al Consumidor”, “Indice de producción industrial manufacturero” y “Estimador mensual de actividad económica\n",
    "##### Accedemos al elemento padre y descargamos la información de sus elementos hijos."
   ]
  },
  {
   "cell_type": "code",
   "execution_count": null,
   "id": "71116240-06c6-4579-ac3e-496c22486eff",
   "metadata": {
    "tags": []
   },
   "outputs": [],
   "source": [
    "def download_values(kpi):\n",
    "    try:\n",
    "        WebDriverWait(driver, 10).until(\n",
    "            EC.presence_of_element_located((By.XPATH, \"//div\"))  # Adjust this to a more specific locator if needed\n",
    "        )\n",
    "\n",
    "        # Locate the child element containing the specific text\n",
    "        child_xpath = f\"//*[contains(text(), '{kpi}')]\"\n",
    "        child_element = driver.find_element(By.XPATH, child_xpath)\n",
    "\n",
    "        # Locate the parent element of that child\n",
    "        parent_element = child_element.find_element(By.XPATH, \"..\")  # .. to get the parent element\n",
    "\n",
    "        # Extract values from the parent element or its children as needed\n",
    "        child_elements = parent_element.find_elements(By.XPATH, './div')  \n",
    "\n",
    "        # Store the values in a list or dictionary\n",
    "        values = [element.text.strip() for element in child_elements]\n",
    "\n",
    "        # Print the stored values\n",
    "        print(\"Values stored:\", values)\n",
    "        return values\n",
    "    except Exception as e:\n",
    "        print(f\"failed due to following error: {e}\")\n",
    "        return e"
   ]
  },
  {
   "cell_type": "code",
   "execution_count": null,
   "id": "c64d59e2-4776-4b66-9728-8838016bbcfc",
   "metadata": {
    "tags": []
   },
   "outputs": [],
   "source": [
    "lista_kpis = ['Tasa de desocupación','Precios al consumidor',\n",
    "             'Índice de producción industrial manufacturero',\n",
    "              'Estimador mensual de actividad económica']"
   ]
  },
  {
   "cell_type": "code",
   "execution_count": null,
   "id": "fbff5d5b-eebe-4c48-872a-63c6ae682716",
   "metadata": {
    "tags": []
   },
   "outputs": [],
   "source": [
    "today_dict = {}\n",
    "for kpi in lista_kpis:\n",
    "    elements = download_values(kpi)\n",
    "    result_dict = {kpi:{\"Fecha\" : today,\n",
    "                        \"Periodo\": elements[2],\n",
    "                        \"Valor\": elements[0]}}\n",
    "    today_dict.update(result_dict)\n",
    "    \n",
    "today_dict\n"
   ]
  },
  {
   "cell_type": "code",
   "execution_count": null,
   "id": "9a05420f-9af8-47ae-9d41-09ddf209b61c",
   "metadata": {
    "tags": []
   },
   "outputs": [],
   "source": [
    "df_1 = pd.DataFrame.from_dict(today_dict, orient='index')\n",
    "\n",
    "# Resetting index, cleaner df\n",
    "df_1.reset_index(inplace=True)\n",
    "\n",
    "# Renaming columns for clarity\n",
    "df_1.columns = ['Metric', 'Fecha', 'Periodo', 'Valor']\n",
    "\n",
    "# Display the DataFrame\n",
    "df_1"
   ]
  },
  {
   "cell_type": "markdown",
   "id": "9da02694-9a69-43b0-97d1-f3ef6c1e9161",
   "metadata": {},
   "source": [
    "## 2 - Índice de precios al Consumidor"
   ]
  },
  {
   "cell_type": "markdown",
   "id": "045e04ff-c8d1-4807-b6cf-7851124acccc",
   "metadata": {
    "tags": []
   },
   "source": [
    "### IPC Nucleo Nacional y por sectores \n",
    "### Descargamos un csv de la base de datos del gobierno."
   ]
  },
  {
   "cell_type": "code",
   "execution_count": null,
   "id": "2aa419f1-8124-4778-accc-763d22250455",
   "metadata": {},
   "outputs": [],
   "source": [
    "try:\n",
    "    driver.quit()\n",
    "except:\n",
    "    print(\"no driver open\")       "
   ]
  },
  {
   "cell_type": "code",
   "execution_count": null,
   "id": "90966f89-5adc-48ba-a744-8c19f0fe8447",
   "metadata": {},
   "outputs": [],
   "source": [
    "driver = start_driver()"
   ]
  },
  {
   "cell_type": "code",
   "execution_count": null,
   "id": "7b175bd3-d4f1-4ed3-9a38-925bc7f0887c",
   "metadata": {
    "tags": []
   },
   "outputs": [],
   "source": [
    "time.sleep(5)\n",
    "driver.get(\"https://infra.datos.gob.ar/catalog/sspm/dataset/145/distribution/145.3/download/indice-precios-al-consumidor-nivel-general-base-diciembre-2016-mensual.csv\")\n",
    "time.sleep(12)"
   ]
  },
  {
   "cell_type": "code",
   "execution_count": null,
   "id": "eb7d625a-03f8-4f1b-a765-7033f332d79d",
   "metadata": {
    "tags": []
   },
   "outputs": [],
   "source": [
    "source_directory = r\"C:\\Users\\bd1266\\Downloads\\Data Download\"\n",
    "backup_directory = r\"C:\\Users\\bd1266\\Downloads\\Data Download\\Back Up\"\n",
    "\n",
    "#\n",
    "file_to_rename = None\n",
    "for filename in os.listdir(source_directory):\n",
    "    if \"indice-precios\" in filename:\n",
    "        file_to_rename = filename\n",
    "        break  \n",
    "\n",
    "if file_to_rename is None:\n",
    "    print(\"No file containing 'indice-precios' found.\")\n",
    "else:\n",
    "    \n",
    "    new_filename = f\"{today}_{file_to_rename}\"\n",
    "    old_file_path = os.path.join(source_directory, file_to_rename)\n",
    "    new_file_path = os.path.join(source_directory, new_filename)\n",
    "    os.rename(old_file_path, new_file_path)\n",
    "    print(f\"Renamed '{file_to_rename}' to '{new_filename}'.\")\n",
    "\n",
    "   "
   ]
  },
  {
   "cell_type": "code",
   "execution_count": null,
   "id": "c8a00139-e72e-4331-b72d-d572f72070e7",
   "metadata": {
    "tags": []
   },
   "outputs": [],
   "source": [
    "indice_precios = pd.read_csv(new_file_path)"
   ]
  },
  {
   "cell_type": "code",
   "execution_count": null,
   "id": "a804d8ba-9c26-4eac-9274-55719db9db2f",
   "metadata": {
    "tags": []
   },
   "outputs": [],
   "source": [
    "indice_precios.columns"
   ]
  },
  {
   "cell_type": "code",
   "execution_count": null,
   "id": "d95990f7-91b2-48f2-9ce4-4a271ebb9c86",
   "metadata": {
    "tags": []
   },
   "outputs": [],
   "source": [
    "indice_precios = indice_precios[['indice_tiempo', 'ipc_ng_nacional', 'ipc_ng_nacional_tasa_variacion_mensual', 'ipc_ng_nacional_tasa_variacion_acumulada_dic_ano_anterior']]"
   ]
  },
  {
   "cell_type": "code",
   "execution_count": null,
   "id": "b06b5a47-3445-4a0e-b5bf-52558308b7cb",
   "metadata": {
    "tags": []
   },
   "outputs": [],
   "source": [
    "indice_precios['indice_tiempo'] = pd.to_datetime(indice_precios['indice_tiempo'])\n",
    "\n",
    "#Calculate the growth compared to the previous month\n",
    "indice_precios['growth_ipc_ng_nacional_vs_lastmonth'] = indice_precios['ipc_ng_nacional'].diff()"
   ]
  },
  {
   "cell_type": "code",
   "execution_count": null,
   "id": "c50d3cc0-e776-473c-9d08-736ed055150d",
   "metadata": {
    "tags": []
   },
   "outputs": [],
   "source": [
    "indice_precios"
   ]
  },
  {
   "cell_type": "code",
   "execution_count": null,
   "id": "5f8551ad-1afd-47de-b8e7-e6150323c701",
   "metadata": {
    "tags": []
   },
   "outputs": [],
   "source": [
    "indice_precios['ipc_ng_nacional_tasa_variacion_mensual'] = indice_precios['ipc_ng_nacional_tasa_variacion_mensual'].astype(float)"
   ]
  },
  {
   "cell_type": "code",
   "execution_count": null,
   "id": "cc7503cf-afca-4fc2-b915-726af3fbbcb6",
   "metadata": {
    "tags": []
   },
   "outputs": [],
   "source": [
    "max_date = indice_precios['indice_tiempo'].max()\n",
    "\n",
    "\n",
    "variacion_mensual = indice_precios.loc[indice_precios['indice_tiempo'] == max_date, 'ipc_ng_nacional_tasa_variacion_mensual'].values[0] * 100\n",
    "start_date_yoy = max_date - pd.DateOffset(months=11)\n",
    "variacion_interanual = indice_precios.loc[(indice_precios['indice_tiempo'] >= start_date_yoy) & (indice_precios['indice_tiempo'] <= max_date), \n",
    "                                   'ipc_ng_nacional_tasa_variacion_mensual'].sum() * 100\n",
    "\n",
    "# Step 4: Calculate year-to-date accumulated variation for the current year\n",
    "variation_ytd = indice_precios.loc[indice_precios['indice_tiempo'] == max_date, \n",
    "                                    'ipc_ng_nacional_tasa_variacion_acumulada_dic_ano_anterior'].values[0] * 100"
   ]
  },
  {
   "cell_type": "code",
   "execution_count": null,
   "id": "bf65ad12-826b-41bf-9f3e-32ef7e885af6",
   "metadata": {
    "tags": []
   },
   "outputs": [],
   "source": [
    "start_date_yoy"
   ]
  },
  {
   "cell_type": "markdown",
   "id": "168eb83e-6405-4caa-8a70-c8b60c091a12",
   "metadata": {},
   "source": [
    "#### Verificar valor de la variación interanual y su fórmula."
   ]
  },
  {
   "cell_type": "code",
   "execution_count": null,
   "id": "c3f82aa7-820c-4f0c-a275-9e89a42ed857",
   "metadata": {
    "tags": []
   },
   "outputs": [],
   "source": [
    "variacion_mensual, variacion_interanual, variation_ytd"
   ]
  },
  {
   "cell_type": "code",
   "execution_count": null,
   "id": "cd8e620e-4662-45d2-804b-ea3a08f3002b",
   "metadata": {},
   "outputs": [],
   "source": [
    "data = [\n",
    "    {'indicador': 'Variación Mensual', 'Valor': variacion_mensual},\n",
    "    {'indicador': 'Variación Interanual', 'Valor': variacion_interanual},\n",
    "    {'indicador': 'Variación YTD', 'Valor': variation_ytd}\n",
    "]\n",
    "\n",
    "# Convert the list of dictionaries to a DataFrame\n",
    "df_indicadores_ipc = pd.DataFrame(data)"
   ]
  },
  {
   "cell_type": "code",
   "execution_count": null,
   "id": "62550cf8-77df-4ed1-bb58-7a35ba727d76",
   "metadata": {
    "tags": []
   },
   "outputs": [],
   "source": [
    "\n",
    "\n",
    "\n",
    "start_date = max_date - pd.DateOffset(months=11)\n",
    "filtered_df = indice_precios[(indice_precios['indice_tiempo'] >= start_date) & (indice_precios['indice_tiempo'] <= max_date)]\n",
    "\n",
    "\n",
    "filtered_df['ipc_ng_nacional_tasa_variacion_mensual'] *= 100  # Convert to percentage\n",
    "filtered_df['ipc_ng_nacional'] = filtered_df['ipc_ng_nacional'].pct_change() * 100  # Monthly percentage change\n",
    "\n",
    "\n",
    "fig, axes = plt.subplots(nrows=1, ncols=2, figsize=(14, 6))\n",
    "\n",
    "\n",
    "axes[0].bar(filtered_df['indice_tiempo'], filtered_df['ipc_ng_nacional_tasa_variacion_mensual'], color='skyblue')\n",
    "axes[0].set_title('IPC Monthly Variation Rate (%)')\n",
    "axes[0].set_xlabel('Date')\n",
    "axes[0].set_ylabel('Percentage (%)')\n",
    "axes[0].tick_params(axis='x', rotation=45)\n",
    "\n",
    "\n",
    "for i in range(len(filtered_df)):\n",
    "    axes[0].text(filtered_df['indice_tiempo'].iloc[i], \n",
    "                  filtered_df['ipc_ng_nacional_tasa_variacion_mensual'].iloc[i], \n",
    "                  f\"{filtered_df['ipc_ng_nacional_tasa_variacion_mensual'].iloc[i]:.2f}\", \n",
    "                  ha='center', va='bottom')\n",
    "\n",
    "    \n",
    "axes[1].bar(filtered_df['indice_tiempo'], filtered_df['ipc_ng_nacional'], color='lightcoral')\n",
    "axes[1].set_title('IPC National Index Monthly Change (%)')\n",
    "axes[1].set_xlabel('Date')\n",
    "axes[1].set_ylabel('Percentage Change (%)')\n",
    "axes[1].tick_params(axis='x', rotation=45)\n",
    "\n",
    "\n",
    "for i in range(len(filtered_df)):\n",
    "    axes[1].text(filtered_df['indice_tiempo'].iloc[i], \n",
    "                  filtered_df['ipc_ng_nacional'].iloc[i], \n",
    "                  f\"{filtered_df['ipc_ng_nacional'].iloc[i]:.2f}\", \n",
    "                  ha='center', va='bottom')\n",
    "\n",
    "plt.tight_layout()\n",
    "plt.show()"
   ]
  },
  {
   "cell_type": "code",
   "execution_count": null,
   "id": "707aec06-2d5f-4e58-b689-131cb9aa2cbf",
   "metadata": {},
   "outputs": [],
   "source": [
    "try:\n",
    "    shutil.move(new_file_path, backup_directory)\n",
    "    print(f\"Moved '{new_filename}' to '{backup_directory}'.\")\n",
    "except Exception as e:\n",
    "    print(f\"Error moving the file: {e}\")"
   ]
  },
  {
   "cell_type": "code",
   "execution_count": null,
   "id": "db649fa4-1592-463a-8293-0c480a93d5e1",
   "metadata": {
    "tags": []
   },
   "outputs": [],
   "source": [
    "df_indicadores_ipc"
   ]
  },
  {
   "cell_type": "markdown",
   "id": "1ed7dfa3-099c-4cf3-91e0-6705b150925c",
   "metadata": {},
   "source": [
    "### IPC Nucleo Nacional por capítulos.\n",
    "### Descargamos un csv de la base de datos del gobierno."
   ]
  },
  {
   "cell_type": "code",
   "execution_count": null,
   "id": "3c690ac6-ea7b-4b4b-9c15-dd0853e0190f",
   "metadata": {},
   "outputs": [],
   "source": [
    "try:\n",
    "    driver.quit()\n",
    "except:\n",
    "    print(\"no driver open\")       "
   ]
  },
  {
   "cell_type": "code",
   "execution_count": null,
   "id": "748e0dc2-b812-4897-903b-9b1578aad070",
   "metadata": {},
   "outputs": [],
   "source": [
    "driver = start_driver()"
   ]
  },
  {
   "cell_type": "code",
   "execution_count": null,
   "id": "aacc150e-cbc4-4196-a8c3-451de4c457a2",
   "metadata": {
    "tags": []
   },
   "outputs": [],
   "source": [
    "time.sleep(5)\n",
    "driver.get(\"https://infra.datos.gob.ar/catalog/sspm/dataset/145/distribution/145.5/download/indice-precios-al-consumidor-apertura-por-capitulos-base-diciembre-2016-mensual.csv\")\n",
    "time.sleep(12)"
   ]
  },
  {
   "cell_type": "code",
   "execution_count": null,
   "id": "45837d3e-4a10-4da8-800a-5511fbe6993f",
   "metadata": {
    "tags": []
   },
   "outputs": [],
   "source": [
    "source_directory = r\"C:\\Users\\bd1266\\Downloads\\Data Download\"\n",
    "backup_directory = r\"C:\\Users\\bd1266\\Downloads\\Data Download\\Back Up\"\n",
    "\n",
    "#\n",
    "file_to_rename = None\n",
    "for filename in os.listdir(source_directory):\n",
    "    if \"por-capitulos\" in filename:\n",
    "        file_to_rename = filename\n",
    "        break  \n",
    "\n",
    "if file_to_rename is None:\n",
    "    print(\"No file containing 'indice-precios-por-capitulos' found.\")\n",
    "else:\n",
    "    \n",
    "    new_filename = f\"{today}_{file_to_rename}\"\n",
    "    old_file_path = os.path.join(source_directory, file_to_rename)\n",
    "    new_file_path = os.path.join(source_directory, new_filename)\n",
    "    os.rename(old_file_path, new_file_path)\n",
    "    print(f\"Renamed '{file_to_rename}' to '{new_filename}'.\")\n",
    "\n",
    "   "
   ]
  },
  {
   "cell_type": "code",
   "execution_count": null,
   "id": "8a9ca6e8-aaa5-4ddf-a28e-f184b8d93ecf",
   "metadata": {
    "tags": []
   },
   "outputs": [],
   "source": [
    "indice_precios_cap = pd.read_csv(new_file_path)"
   ]
  },
  {
   "cell_type": "code",
   "execution_count": null,
   "id": "ee114116-7fe5-4ed0-aae6-3a41df996b85",
   "metadata": {
    "tags": []
   },
   "outputs": [],
   "source": [
    "indice_precios_cap"
   ]
  },
  {
   "cell_type": "code",
   "execution_count": null,
   "id": "a0061f18-ae14-420c-ad53-d87241a46ef7",
   "metadata": {
    "tags": []
   },
   "outputs": [],
   "source": [
    "indice_precios_cap['indice_tiempo'] = pd.to_datetime(indice_precios_cap['indice_tiempo'])\n",
    "\n",
    "# Find the last date in the 'indice_tiempo' column\n",
    "last_date = max(indice_precios_cap['indice_tiempo'])\n",
    "\n",
    "# Filter for the last date and rename to national_data\n",
    "national_data = indice_precios_cap[indice_precios_cap['indice_tiempo'] == last_date]\n",
    "\n",
    "\n",
    "columns_to_visualize = [\n",
    "    'ipc_vivienda_agua_electricidad_combustibles_nacional',\n",
    "    'ipc_prendas_vestir_calzado_nacional',\n",
    "    'ipc_restaurantes_hoteles_nacional',\n",
    "    'ipc_salud_nacional',\n",
    "    'ipc_educacion_nacional',\n",
    "    'ipc_bebidas_alcoholicas_tabaco_nacional',\n",
    "    'ipc_recreacion_cultura_nacional',\n",
    "    'ipc_bienes_servicios_varios_nacional',\n",
    "    'ipc_equipamiento_mantenimientos_hogar_nacional',\n",
    "    'ipc_comunicaciones_nacional',\n",
    "    'ipc_transporte_nacional', \n",
    "    'ipc_alimentos_bebidas_no_alcoholicas_nacional'\n",
    "]\n",
    "\n",
    "national_data = national_data.reset_index(drop=True)"
   ]
  },
  {
   "cell_type": "code",
   "execution_count": null,
   "id": "75860334-4d7c-4392-b3c9-ebf621398e07",
   "metadata": {
    "tags": []
   },
   "outputs": [],
   "source": [
    "plt.figure(figsize=(12, 6))\n",
    "bars = plt.bar(columns_to_visualize, national_data[columns_to_visualize].values.flatten())\n",
    "plt.title(f'IPC Values on {last_date.strftime(\"%Y-%m-%d\")}')\n",
    "plt.xlabel('IPC Categories')\n",
    "plt.ylabel('Values')\n",
    "plt.xticks(rotation=45, ha='right')\n",
    "\n",
    "# Adding values on top of the bars\n",
    "for bar in bars:\n",
    "    yval = bar.get_height()\n",
    "    plt.text(bar.get_x() + bar.get_width()/2.0, yval + 1, round(yval), ha='center', va='bottom')\n",
    "\n",
    "plt.tight_layout()\n",
    "plt.show()\n",
    "\n",
    "# Create a dynamic chart with Plotly\n",
    "fig = px.line(indice_precios_cap,\n",
    "              x='indice_tiempo',\n",
    "              y=columns_to_visualize,\n",
    "              title='IPC Values Over Time',\n",
    "              labels={'indice_tiempo': 'Date'},\n",
    "              markers=True)\n",
    "\n",
    "# Show the figure\n",
    "fig.show()"
   ]
  },
  {
   "cell_type": "code",
   "execution_count": null,
   "id": "295e2892-5efa-4039-b964-9c31d5f009e8",
   "metadata": {
    "tags": []
   },
   "outputs": [],
   "source": [
    "national_data_full = indice_precios_cap[columns_to_visualize].copy()\n",
    "variation_data = national_data_full.pct_change() * 100\n",
    "national_data_variation = pd.DataFrame({\n",
    "    'indice_tiempo': indice_precios_cap['indice_tiempo'][1:], # Skip first date for variation\n",
    "})\n",
    "\n",
    "# Add variation data to the new DataFrame\n",
    "for col in columns_to_visualize:\n",
    "    national_data_variation[col + '_variation'] = variation_data[col][1:] # Skip first row for NaN\n",
    "\n",
    "# Reset index to clean up the DataFrame\n",
    "national_data_variation.reset_index(drop=True, inplace=True)\n",
    "\n",
    "national_data_variation"
   ]
  },
  {
   "cell_type": "code",
   "execution_count": null,
   "id": "83f0a5b9-61d0-4a2c-be83-db1596b29e07",
   "metadata": {
    "tags": []
   },
   "outputs": [],
   "source": [
    "max_date = national_data_variation['indice_tiempo'].max()\n",
    "max_date_variation = national_data_variation[national_data_variation['indice_tiempo'] == max_date]\n",
    "\n",
    "# Plotting for max date using Matplotlib\n",
    "plt.figure(figsize=(12, 6))\n",
    "bars = plt.bar(max_date_variation.columns[1:], max_date_variation.iloc[0][1:])\n",
    "plt.title(f'IPC Variation (%) on {max_date.strftime(\"%Y-%m-%d\")}')\n",
    "plt.xlabel('IPC Categories')\n",
    "plt.ylabel('Variation (%)')\n",
    "plt.xticks(rotation=45)\n",
    "\n",
    "# Adding values on top of the bars\n",
    "for bar in bars:\n",
    "    yval = bar.get_height()\n",
    "    plt.text(bar.get_x() + bar.get_width()/2.0, yval + (1 if yval >= 0 else -1), f\"{yval:.2f}%\", ha='center', va='bottom' if yval >= 0 else 'top')\n",
    "\n",
    "plt.tight_layout()\n",
    "plt.show()\n",
    "\n",
    "# Create a dynamic chart with Plotly for all dates\n",
    "fig = px.line(national_data_variation,\n",
    "              x='indice_tiempo',\n",
    "              y=[col for col in national_data_variation.columns if '_variation' in col],\n",
    "              title='IPC Variation Over Time',\n",
    "              labels={'indice_tiempo': 'Date'},\n",
    "              markers=True)\n",
    "\n",
    "# Show the figure\n",
    "fig.show()"
   ]
  },
  {
   "cell_type": "code",
   "execution_count": null,
   "id": "a6257105-3222-444c-9fff-3603239f7859",
   "metadata": {},
   "outputs": [],
   "source": [
    "try:\n",
    "    shutil.move(new_file_path, backup_directory)\n",
    "    print(f\"Moved '{new_filename}' to '{backup_directory}'.\")\n",
    "except Exception as e:\n",
    "    print(f\"Error moving the file: {e}\")"
   ]
  },
  {
   "cell_type": "markdown",
   "id": "26d0ef55-a199-4bf3-8e24-bd727d323c44",
   "metadata": {
    "jp-MarkdownHeadingCollapsed": true,
    "tags": []
   },
   "source": [
    "## 3 - Estimador Mensual de Actividad Económica"
   ]
  },
  {
   "cell_type": "markdown",
   "id": "f283edc4-b399-4a62-89d1-b3104a535a5d",
   "metadata": {
    "tags": []
   },
   "source": [
    "### Descargamos el csv con la información actualizada e histórica del EMAE desde la base de datos del gobierno."
   ]
  },
  {
   "cell_type": "code",
   "execution_count": null,
   "id": "b238948f-4441-474e-8701-9de98ca89364",
   "metadata": {},
   "outputs": [],
   "source": [
    "try:\n",
    "    driver.quit()\n",
    "except:\n",
    "    print(\"no driver open\")       "
   ]
  },
  {
   "cell_type": "code",
   "execution_count": null,
   "id": "0176baf4-7bb1-4bae-95a2-4ff15a01ae0d",
   "metadata": {},
   "outputs": [],
   "source": [
    "driver = start_driver()"
   ]
  },
  {
   "cell_type": "code",
   "execution_count": null,
   "id": "9b0ccef0-0bda-45c9-aafd-80867313388a",
   "metadata": {
    "tags": []
   },
   "outputs": [],
   "source": [
    "time.sleep(5)\n",
    "driver.get(\"https://infra.datos.gob.ar/catalog/sspm/dataset/143/distribution/143.3/download/emae-valores-anuales-indice-base-2004-mensual.csv\")\n",
    "time.sleep(12)"
   ]
  },
  {
   "cell_type": "code",
   "execution_count": null,
   "id": "915e48de-9947-4c9c-bb10-03e8e7f01719",
   "metadata": {
    "tags": []
   },
   "outputs": [],
   "source": [
    "source_directory = r\"C:\\Users\\bd1266\\Downloads\\Data Download\"\n",
    "backup_directory = r\"C:\\Users\\bd1266\\Downloads\\Data Download\\Back Up\"\n",
    "\n",
    "#\n",
    "file_to_rename = None\n",
    "for filename in os.listdir(source_directory):\n",
    "    if \"emae\" in filename:\n",
    "        file_to_rename = filename\n",
    "        break  \n",
    "\n",
    "if file_to_rename is None:\n",
    "    print(\"No file containing 'emae' found.\")\n",
    "else:\n",
    "    \n",
    "    new_filename = f\"{today}_{file_to_rename}\"\n",
    "    old_file_path = os.path.join(source_directory, file_to_rename)\n",
    "    new_file_path = os.path.join(source_directory, new_filename)\n",
    "    os.rename(old_file_path, new_file_path)\n",
    "    print(f\"Renamed '{file_to_rename}' to '{new_filename}'.\")\n",
    "\n",
    "   "
   ]
  },
  {
   "cell_type": "code",
   "execution_count": null,
   "id": "25dda68d-9b4e-4d66-a492-f8ced80e57bf",
   "metadata": {
    "tags": []
   },
   "outputs": [],
   "source": [
    "emae_df = pd.read_csv(new_file_path)"
   ]
  },
  {
   "cell_type": "code",
   "execution_count": null,
   "id": "abc1d247-15de-479d-afef-781a28b638df",
   "metadata": {
    "tags": []
   },
   "outputs": [],
   "source": [
    "emae_df"
   ]
  },
  {
   "cell_type": "code",
   "execution_count": null,
   "id": "17cef0f7-c3c0-4caa-94b1-5bee1b7e7b30",
   "metadata": {},
   "outputs": [],
   "source": [
    "try:\n",
    "    shutil.move(new_file_path, backup_directory)\n",
    "    print(f\"Moved '{new_filename}' to '{backup_directory}'.\")\n",
    "except Exception as e:\n",
    "    print(f\"Error moving the file: {e}\")"
   ]
  },
  {
   "cell_type": "code",
   "execution_count": null,
   "id": "4eb5e3ce-bb59-49aa-9bb5-8072c5bbd4b1",
   "metadata": {},
   "outputs": [],
   "source": []
  },
  {
   "cell_type": "code",
   "execution_count": null,
   "id": "ac0df1c3-fc31-421e-97a5-be1b38daa820",
   "metadata": {},
   "outputs": [],
   "source": []
  },
  {
   "cell_type": "markdown",
   "id": "ebeafcd2-957a-47ec-ab85-0ec7a7a63605",
   "metadata": {
    "jp-MarkdownHeadingCollapsed": true,
    "tags": []
   },
   "source": [
    "## 4 - Indice de produccion industrial manufacturero"
   ]
  },
  {
   "cell_type": "code",
   "execution_count": null,
   "id": "52b78c12-0aea-40a0-9de5-abb8442163ef",
   "metadata": {},
   "outputs": [],
   "source": [
    "try:\n",
    "    driver.quit()\n",
    "except:\n",
    "    print(\"no driver open\")       "
   ]
  },
  {
   "cell_type": "code",
   "execution_count": null,
   "id": "766661d4-9ca2-48df-ac5d-c8fa220165e3",
   "metadata": {},
   "outputs": [],
   "source": [
    "driver = start_driver()"
   ]
  },
  {
   "cell_type": "code",
   "execution_count": null,
   "id": "e2c32018-ceb2-4fa5-9ce4-86239c58cd0b",
   "metadata": {
    "tags": []
   },
   "outputs": [],
   "source": [
    "time.sleep(5)\n",
    "driver.get(\"https://infra.datos.gob.ar/catalog/sspm/dataset/453/distribution/453.1/download/ipi-manufacturero.csv\")\n",
    "time.sleep(12)"
   ]
  },
  {
   "cell_type": "code",
   "execution_count": null,
   "id": "d3591985-14fa-4f6a-bc4f-3bd01248dab2",
   "metadata": {
    "tags": []
   },
   "outputs": [],
   "source": [
    "source_directory = r\"C:\\Users\\bd1266\\Downloads\\Data Download\"\n",
    "backup_directory = r\"C:\\Users\\bd1266\\Downloads\\Data Download\\Back Up\"\n",
    "\n",
    "#\n",
    "file_to_rename = None\n",
    "for filename in os.listdir(source_directory):\n",
    "    if \"manufacturero\" in filename:\n",
    "        file_to_rename = filename\n",
    "        break  \n",
    "\n",
    "if file_to_rename is None:\n",
    "    print(\"No file containing 'manufacturero' found.\")\n",
    "else:\n",
    "    \n",
    "    new_filename = f\"{today}_{file_to_rename}\"\n",
    "    old_file_path = os.path.join(source_directory, file_to_rename)\n",
    "    new_file_path = os.path.join(source_directory, new_filename)\n",
    "    os.rename(old_file_path, new_file_path)\n",
    "    print(f\"Renamed '{file_to_rename}' to '{new_filename}'.\")\n",
    "\n",
    "   "
   ]
  },
  {
   "cell_type": "code",
   "execution_count": null,
   "id": "041c9b4f-2ef3-4179-afce-2adb5ba278bd",
   "metadata": {
    "tags": []
   },
   "outputs": [],
   "source": [
    "indice_manufacturero = pd.read_csv(new_file_path)"
   ]
  },
  {
   "cell_type": "code",
   "execution_count": null,
   "id": "b2cba599-eec9-4f53-bf16-9f72f046fc1e",
   "metadata": {
    "tags": []
   },
   "outputs": [],
   "source": [
    "indice_manufacturero"
   ]
  },
  {
   "cell_type": "code",
   "execution_count": null,
   "id": "1f89679f-65d9-4567-b21d-d4b404d8a5ac",
   "metadata": {},
   "outputs": [],
   "source": []
  },
  {
   "cell_type": "code",
   "execution_count": null,
   "id": "9351763b-8d74-4ed6-800b-feb16be246ad",
   "metadata": {
    "tags": []
   },
   "outputs": [],
   "source": [
    "try:\n",
    "    shutil.move(new_file_path, backup_directory)\n",
    "    print(f\"Moved '{new_filename}' to '{backup_directory}'.\")\n",
    "except Exception as e:\n",
    "    print(f\"Error moving the file: {e}\")"
   ]
  },
  {
   "cell_type": "code",
   "execution_count": null,
   "id": "9fc547ef-7bd4-4499-ad7e-cca7ce06e7ca",
   "metadata": {},
   "outputs": [],
   "source": []
  },
  {
   "cell_type": "markdown",
   "id": "7136d6ef-2608-47f7-84c6-a401c3268e6e",
   "metadata": {},
   "source": [
    "### 5- Relevamiento de expectativas de Mercado"
   ]
  },
  {
   "cell_type": "code",
   "execution_count": null,
   "id": "1565afd5-2038-4996-a5fd-b369284ed969",
   "metadata": {},
   "outputs": [],
   "source": [
    "try:\n",
    "    driver.quit()\n",
    "except:\n",
    "    print(\"no driver open\")       "
   ]
  },
  {
   "cell_type": "code",
   "execution_count": null,
   "id": "60889a8a-7abc-4097-889a-0637f4603d9e",
   "metadata": {},
   "outputs": [],
   "source": [
    "driver = start_driver()"
   ]
  },
  {
   "cell_type": "code",
   "execution_count": null,
   "id": "301724c1-1759-42b6-ac84-93e312447247",
   "metadata": {},
   "outputs": [],
   "source": [
    "time.sleep(5)\n",
    "driver.get(\"https://www.bcra.gob.ar/PublicacionesEstadisticas/Relevamiento_Expectativas_de_Mercado.asp\")\n",
    "time.sleep(5)"
   ]
  },
  {
   "cell_type": "code",
   "execution_count": null,
   "id": "9e2a673b-32b9-4c56-9712-d2e775465b32",
   "metadata": {
    "tags": []
   },
   "outputs": [],
   "source": [
    "excel_link = WebDriverWait(driver, 10).until(\n",
    "    EC.presence_of_element_located((By.XPATH, '/html/body/div/div[3]/div/div[1]/div[2]/p[2]/a[2]'))\n",
    ")\n",
    "excel_link.click()\n",
    "time.sleep(10)"
   ]
  },
  {
   "cell_type": "code",
   "execution_count": null,
   "id": "b6704a3e-e7ad-4b66-bbac-fe285f1d2b40",
   "metadata": {},
   "outputs": [],
   "source": [
    "file_to_rename = None\n",
    "for filename in os.listdir(source_directory):\n",
    "    if \"relevamiento\" in filename:\n",
    "        print(\"its here\")\n",
    "        file_to_rename = filename\n",
    "        break  \n",
    "\n",
    "if file_to_rename is None:\n",
    "    print(\"No file containing 'relevamiento' found.\")\n",
    "else:\n",
    "    \n",
    "    new_filename = f\"{today}_{file_to_rename}\"\n",
    "    old_file_path = os.path.join(source_directory, file_to_rename)\n",
    "    new_file_path = os.path.join(source_directory, new_filename)\n",
    "    os.rename(old_file_path, new_file_path)\n",
    "    print(f\"Renamed '{file_to_rename}' to '{new_filename}'.\")\n"
   ]
  },
  {
   "cell_type": "code",
   "execution_count": null,
   "id": "0ae52636-3ff1-4182-a313-fe5f32d2f455",
   "metadata": {},
   "outputs": [],
   "source": []
  },
  {
   "cell_type": "code",
   "execution_count": null,
   "id": "a71716b9-fbac-41c8-a1ff-339290d1de34",
   "metadata": {
    "tags": []
   },
   "outputs": [],
   "source": [
    "def extract_table2(file_path, sheet_name, start_col, end_col, start_row, end_row=None):\n",
    "    # Construct the column range string\n",
    "    col_range = f\"{start_col}:{end_col}\"\n",
    "    \n",
    "    # Read the specific columns and rows from the sheet\n",
    "    if end_row == None:\n",
    "        df = pd.read_excel(file_path, sheet_name=sheet_name, usecols=col_range, skiprows=start_row-1)\n",
    "    # Drop rows and columns that are completely empty\n",
    "    else:\n",
    "        nrows = end_row - start_row + 1\n",
    "        df = pd.read_excel(file_path, sheet_name=sheet_name, usecols=col_range, skiprows=start_row-1, nrows=nrows)\n",
    "    df.dropna(how='all', inplace=True)\n",
    "    df.dropna(axis=1, how='all', inplace=True)\n",
    "    \n",
    "    # Remove any leading or trailing whitespace from column names\n",
    "    def is_date(string):\n",
    "        try:\n",
    "            pd.to_datetime(string)\n",
    "            return True\n",
    "        except ValueError:\n",
    "            return False\n",
    "\n",
    "# Verify if the column header is a date and format it as '2025-02-06' and convert it to text\n",
    "    df.columns = [pd.to_datetime(col).strftime('%Y-%m-%d') if is_date(col) else col.strip() for col in df.columns]\n",
    "    \n",
    "    # Replace any remaining NaN values with an empty string\n",
    "    df.fillna('', inplace=True)\n",
    "    \n",
    "    return df\n",
    "\n",
    "sheet_name = 'Cuadros de resultados'\n",
    "start_col = 'B'\n",
    "end_col = 'M'\n",
    "start_row = 4\n",
    "\n",
    "# Extract the table\n",
    "df_cuadro1 = extract_table2(new_file_path, sheet_name, start_col, end_col, start_row)\n",
    "df_cuadro1.reset_index(inplace=True, drop=True)"
   ]
  },
  {
   "cell_type": "code",
   "execution_count": null,
   "id": "0b1ef1c6-c8a6-4478-8c0d-e1d7794114bd",
   "metadata": {
    "tags": []
   },
   "outputs": [],
   "source": [
    "markers = [\n",
    "    \"Precios minoristas (IPC nivel general-Nacional; INDEC)\",\n",
    "    \"Precios minoristas (IPC núcleo-Nacional; INDEC)\",\n",
    "    \"Tasa de interés (TAMAR)\",\n",
    "    \"Tipo de cambio nominal\"\n",
    "]\n",
    "\n",
    "# Find the indices for the start and end markers\n",
    "indices = [df_cuadro1[df_cuadro1['Unnamed: 1'] == marker].index[0] for marker in markers]\n",
    "\n",
    "# Split the dataframe into three tables based on the indices\n",
    "table1 = df_cuadro1.iloc[indices[0]:indices[1]]\n",
    "table2 = df_cuadro1.iloc[indices[1]:indices[2]]\n",
    "table3 = df_cuadro1.iloc[indices[2]:indices[3]]\n",
    "\n"
   ]
  },
  {
   "cell_type": "code",
   "execution_count": null,
   "id": "fe87afcc-d35e-44cd-83f2-853e246b68c9",
   "metadata": {
    "tags": []
   },
   "outputs": [],
   "source": [
    "table2"
   ]
  },
  {
   "cell_type": "code",
   "execution_count": null,
   "id": "3f2ba779-f886-4a3d-8e56-8e7d0c096364",
   "metadata": {
    "tags": []
   },
   "outputs": [],
   "source": [
    "def corrrect_headers(table1):\n",
    "    table1 = table1.reset_index(drop=True)\n",
    "    header_row_index = table1[table1[table1.columns[0]] == 'Período'].index[0]\n",
    "    table1.columns = table1.iloc[header_row_index]\n",
    "    table1 = table1[header_row_index + 1:]\n",
    "    table1 = table1.reset_index(drop=True)\n",
    "    return table1\n",
    "\n",
    "precios_minoristas_ipc_general = corrrect_headers(table1)\n",
    "precios_minoristas_ipc_nucleo = corrrect_headers(table2)\n",
    "tasa_interes_tamar = corrrect_headers(table3)"
   ]
  },
  {
   "cell_type": "code",
   "execution_count": null,
   "id": "f58d72d2-47cf-4fbd-b127-c84c3f075fc6",
   "metadata": {
    "tags": []
   },
   "outputs": [],
   "source": [
    "precios_minoristas_ipc_general"
   ]
  },
  {
   "cell_type": "code",
   "execution_count": null,
   "id": "e38ce975-c3f2-4d39-951c-d5628a9dceca",
   "metadata": {
    "tags": []
   },
   "outputs": [],
   "source": [
    "precios_minoristas_ipc_nucleo"
   ]
  },
  {
   "cell_type": "code",
   "execution_count": null,
   "id": "4bf63f1e-e095-4b0e-9331-b8d2221f0b2b",
   "metadata": {
    "tags": []
   },
   "outputs": [],
   "source": [
    "tasa_interes_tamar"
   ]
  },
  {
   "cell_type": "code",
   "execution_count": null,
   "id": "afc22f24-3c2b-430c-80ab-fac41edf7b83",
   "metadata": {},
   "outputs": [],
   "source": []
  },
  {
   "cell_type": "code",
   "execution_count": null,
   "id": "eb71fc1b-6555-47d2-8206-c7a968f913e7",
   "metadata": {
    "tags": []
   },
   "outputs": [],
   "source": [
    "try:\n",
    "    shutil.move(new_file_path, backup_directory)\n",
    "    print(f\"Moved '{new_filename}' to '{backup_directory}'.\")\n",
    "except Exception as e:\n",
    "    print(f\"Error moving the file: {e}\")"
   ]
  },
  {
   "cell_type": "code",
   "execution_count": null,
   "id": "65206f76-edf5-48e0-9f65-9bbd0a617b5a",
   "metadata": {},
   "outputs": [],
   "source": []
  },
  {
   "cell_type": "code",
   "execution_count": null,
   "id": "bcc67748-d12f-4e49-a1ed-8f0c93f84f10",
   "metadata": {
    "tags": []
   },
   "outputs": [],
   "source": [
    "driver.quit()"
   ]
  },
  {
   "cell_type": "markdown",
   "id": "2dbe9d2e-5f1e-43bb-8764-e7e97ae56341",
   "metadata": {
    "tags": []
   },
   "source": [
    "# Guardamos los resultados !"
   ]
  },
  {
   "cell_type": "code",
   "execution_count": null,
   "id": "720e1c05-3897-49e9-b3ad-70174cdf6199",
   "metadata": {
    "tags": []
   },
   "outputs": [],
   "source": [
    "df_indicadores_ipc,\n",
    "indice_manufacturero,\n",
    "emae_df,\n",
    "precios_minoristas_ipc_general,\n",
    "precios_minoristas_ipc_general,\n",
    "precios_minoristas_ipc_nucleo,\n",
    "tasa_interes_tamar"
   ]
  },
  {
   "cell_type": "code",
   "execution_count": null,
   "id": "01f3dec9-48c4-439d-a5a4-137344bc4d46",
   "metadata": {},
   "outputs": [],
   "source": []
  },
  {
   "cell_type": "code",
   "execution_count": null,
   "id": "cb4a7065-d728-4c04-a331-2174f2a07fff",
   "metadata": {},
   "outputs": [],
   "source": []
  },
  {
   "cell_type": "code",
   "execution_count": null,
   "id": "e5d44fbe-6b0d-4484-ae84-0136a8ca61fe",
   "metadata": {},
   "outputs": [],
   "source": []
  }
 ],
 "metadata": {
  "kernelspec": {
   "display_name": "Python 3 (ipykernel)",
   "language": "python",
   "name": "python3"
  },
  "language_info": {
   "codemirror_mode": {
    "name": "ipython",
    "version": 3
   },
   "file_extension": ".py",
   "mimetype": "text/x-python",
   "name": "python",
   "nbconvert_exporter": "python",
   "pygments_lexer": "ipython3",
   "version": "3.11.3"
  }
 },
 "nbformat": 4,
 "nbformat_minor": 5
}
